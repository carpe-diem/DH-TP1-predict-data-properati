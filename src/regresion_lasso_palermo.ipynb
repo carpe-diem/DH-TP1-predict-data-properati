{
 "cells": [
  {
   "cell_type": "code",
   "execution_count": 90,
   "metadata": {},
   "outputs": [],
   "source": [
    "# Librerias\n",
    "import numpy as np\n",
    "import pandas as pd\n",
    "import seaborn as sns\n",
    "\n",
    "from sklearn import linear_model\n",
    "from sklearn import metrics\n",
    "from sklearn.model_selection import train_test_split\n",
    "from sklearn.preprocessing import OneHotEncoder\n",
    "from sklearn.preprocessing import MinMaxScaler\n",
    "\n",
    "import statsmodels.api as sm\n",
    "from statsmodels.tools import eval_measures\n"
   ]
  },
  {
   "cell_type": "code",
   "execution_count": 91,
   "metadata": {},
   "outputs": [
    {
     "data": {
      "text/html": [
       "<div>\n",
       "<style scoped>\n",
       "    .dataframe tbody tr th:only-of-type {\n",
       "        vertical-align: middle;\n",
       "    }\n",
       "\n",
       "    .dataframe tbody tr th {\n",
       "        vertical-align: top;\n",
       "    }\n",
       "\n",
       "    .dataframe thead th {\n",
       "        text-align: right;\n",
       "    }\n",
       "</style>\n",
       "<table border=\"1\" class=\"dataframe\">\n",
       "  <thead>\n",
       "    <tr style=\"text-align: right;\">\n",
       "      <th></th>\n",
       "      <th>place_name</th>\n",
       "      <th>price_aprox_usd</th>\n",
       "      <th>surface_total_in_m2</th>\n",
       "      <th>surface_covered_in_m2</th>\n",
       "      <th>floor</th>\n",
       "      <th>rooms</th>\n",
       "      <th>expenses</th>\n",
       "      <th>piscina</th>\n",
       "      <th>Parrilla</th>\n",
       "      <th>Cochera</th>\n",
       "      <th>nuevo</th>\n",
       "    </tr>\n",
       "  </thead>\n",
       "  <tbody>\n",
       "    <tr>\n",
       "      <th>16794</th>\n",
       "      <td>Belgrano</td>\n",
       "      <td>635000</td>\n",
       "      <td>157</td>\n",
       "      <td>143</td>\n",
       "      <td>2</td>\n",
       "      <td>4</td>\n",
       "      <td>100000</td>\n",
       "      <td>0</td>\n",
       "      <td>0</td>\n",
       "      <td>1</td>\n",
       "      <td>0</td>\n",
       "    </tr>\n",
       "    <tr>\n",
       "      <th>4523</th>\n",
       "      <td>San Telmo</td>\n",
       "      <td>706374</td>\n",
       "      <td>35</td>\n",
       "      <td>31</td>\n",
       "      <td>1</td>\n",
       "      <td>1</td>\n",
       "      <td>0</td>\n",
       "      <td>0</td>\n",
       "      <td>1</td>\n",
       "      <td>1</td>\n",
       "      <td>1</td>\n",
       "    </tr>\n",
       "  </tbody>\n",
       "</table>\n",
       "</div>"
      ],
      "text/plain": [
       "      place_name  price_aprox_usd  surface_total_in_m2  surface_covered_in_m2  \\\n",
       "16794   Belgrano           635000                  157                    143   \n",
       "4523   San Telmo           706374                   35                     31   \n",
       "\n",
       "       floor  rooms  expenses  piscina  Parrilla  Cochera  nuevo  \n",
       "16794      2      4    100000        0         0        1      0  \n",
       "4523       1      1         0        0         1        1      1  "
      ]
     },
     "metadata": {},
     "output_type": "display_data"
    },
    {
     "name": "stdout",
     "output_type": "stream",
     "text": [
      "(Cantidad de Filas, Cantidad de columnas) -> (16938, 11)\n"
     ]
    }
   ],
   "source": [
    "# leemos el dataset limpio y eliminamos columnas que no vamos a usar\n",
    "filename = \"../dataset/capital.csv\"\n",
    "data = pd.read_csv(filename, sep=',')\n",
    "data.drop([data.columns[0],\"numero\",\"description\", \"price_usd_per_m2\", \"price_aprox_local_currency\",\"price_per_m2\" ,\"title\", \"property_type\"], axis=1,inplace=True)\n",
    "display(data.sample(n=2))\n",
    "print(f\"(Cantidad de Filas, Cantidad de columnas) -> {data.shape}\")\n"
   ]
  },
  {
   "cell_type": "code",
   "execution_count": 92,
   "metadata": {},
   "outputs": [
    {
     "data": {
      "text/html": [
       "<div>\n",
       "<style scoped>\n",
       "    .dataframe tbody tr th:only-of-type {\n",
       "        vertical-align: middle;\n",
       "    }\n",
       "\n",
       "    .dataframe tbody tr th {\n",
       "        vertical-align: top;\n",
       "    }\n",
       "\n",
       "    .dataframe thead th {\n",
       "        text-align: right;\n",
       "    }\n",
       "</style>\n",
       "<table border=\"1\" class=\"dataframe\">\n",
       "  <thead>\n",
       "    <tr style=\"text-align: right;\">\n",
       "      <th></th>\n",
       "      <th>place_name</th>\n",
       "      <th>price_aprox_usd</th>\n",
       "      <th>surface_total_in_m2</th>\n",
       "      <th>surface_covered_in_m2</th>\n",
       "      <th>floor</th>\n",
       "      <th>rooms</th>\n",
       "      <th>expenses</th>\n",
       "      <th>piscina</th>\n",
       "      <th>Parrilla</th>\n",
       "      <th>Cochera</th>\n",
       "      <th>nuevo</th>\n",
       "    </tr>\n",
       "  </thead>\n",
       "  <tbody>\n",
       "    <tr>\n",
       "      <th>3448</th>\n",
       "      <td>Palermo</td>\n",
       "      <td>185000</td>\n",
       "      <td>36</td>\n",
       "      <td>34</td>\n",
       "      <td>2</td>\n",
       "      <td>1</td>\n",
       "      <td>0</td>\n",
       "      <td>1</td>\n",
       "      <td>1</td>\n",
       "      <td>1</td>\n",
       "      <td>1</td>\n",
       "    </tr>\n",
       "    <tr>\n",
       "      <th>16553</th>\n",
       "      <td>Palermo</td>\n",
       "      <td>890000</td>\n",
       "      <td>252</td>\n",
       "      <td>235</td>\n",
       "      <td>3</td>\n",
       "      <td>3</td>\n",
       "      <td>0</td>\n",
       "      <td>0</td>\n",
       "      <td>0</td>\n",
       "      <td>1</td>\n",
       "      <td>0</td>\n",
       "    </tr>\n",
       "  </tbody>\n",
       "</table>\n",
       "</div>"
      ],
      "text/plain": [
       "      place_name  price_aprox_usd  surface_total_in_m2  surface_covered_in_m2  \\\n",
       "3448     Palermo           185000                   36                     34   \n",
       "16553    Palermo           890000                  252                    235   \n",
       "\n",
       "       floor  rooms  expenses  piscina  Parrilla  Cochera  nuevo  \n",
       "3448       2      1         0        1         1        1      1  \n",
       "16553      3      3         0        0         0        1      0  "
      ]
     },
     "metadata": {},
     "output_type": "display_data"
    },
    {
     "name": "stdout",
     "output_type": "stream",
     "text": [
      "(Cantidad de Filas, Cantidad de columnas) -> (1351, 11)\n"
     ]
    }
   ],
   "source": [
    "data = data[(data.place_name==\"Palermo\")]\n",
    "display(data.sample(n=2))\n",
    "print(f\"(Cantidad de Filas, Cantidad de columnas) -> {data.shape}\")"
   ]
  },
  {
   "cell_type": "markdown",
   "metadata": {},
   "source": [
    "# Dataset\n",
    "\n",
    "El dataset ya se encuentra limpio, y cuenta con 16938 Propiedades de Capital Federal.\n",
    "\n",
    "**Campos**\n",
    "<pre>\n",
    "place_name:                Barrio\n",
    "price_aprox_usd:           Precio en dolares. Variable Target\n",
    "surface_total_in_m2:       Metros cuadrados totales de la propiedad\n",
    "surface_covered_in_m2:     Metros cuadrados cubiertos de la propiedad\n",
    "floor:                     Piso en que se encuentra la propiedad.\n",
    "rooms:                     Habitaciones de la propiedad\n",
    "expenses:                  Valor de las Expensas en pesos\n",
    "piscina:                   Si tiene pisina (0: No tiene, 1: Tiene)\n",
    "Parrilla:                  Si tiene parrilla (0: No tiene, 1: Tiene)\n",
    "Cochera:                   Si tiene cochera (0: No tiene, 1: Tiene)\n",
    "nuevo:                     Si es nuevo (0: no es nuevo, 1: es nuevo)\n",
    "</pre>\n",
    "\n",
    "`place_name` es una Variable categorica,hay que crear variables dummies.\n",
    "`surface_total_in_m2`, `surface_covered_in_m2`, `floor`, `rooms` y `expenses` son variables continuas, y hay que estandarizarlas para llevarlas al intevalo 0-1.\n"
   ]
  },
  {
   "cell_type": "markdown",
   "metadata": {},
   "source": [
    "Paso 2:\n",
    "Estandarizamos los campos numéricos `surface_total_in_m2`, `surface_covered_in_m2`, `floor`, `rooms` y `expenses`."
   ]
  },
  {
   "cell_type": "code",
   "execution_count": 93,
   "metadata": {},
   "outputs": [
    {
     "data": {
      "text/html": [
       "<div>\n",
       "<style scoped>\n",
       "    .dataframe tbody tr th:only-of-type {\n",
       "        vertical-align: middle;\n",
       "    }\n",
       "\n",
       "    .dataframe tbody tr th {\n",
       "        vertical-align: top;\n",
       "    }\n",
       "\n",
       "    .dataframe thead th {\n",
       "        text-align: right;\n",
       "    }\n",
       "</style>\n",
       "<table border=\"1\" class=\"dataframe\">\n",
       "  <thead>\n",
       "    <tr style=\"text-align: right;\">\n",
       "      <th></th>\n",
       "      <th>surface_total_in_m2_std</th>\n",
       "      <th>surface_covered_in_m2_std</th>\n",
       "      <th>floor_std</th>\n",
       "      <th>rooms_std</th>\n",
       "      <th>expenses_std</th>\n",
       "    </tr>\n",
       "  </thead>\n",
       "  <tbody>\n",
       "    <tr>\n",
       "      <th>0</th>\n",
       "      <td>0.081437</td>\n",
       "      <td>0.023006</td>\n",
       "      <td>0.133333</td>\n",
       "      <td>0.066667</td>\n",
       "      <td>0.000000</td>\n",
       "    </tr>\n",
       "    <tr>\n",
       "      <th>1</th>\n",
       "      <td>0.273054</td>\n",
       "      <td>0.300613</td>\n",
       "      <td>0.133333</td>\n",
       "      <td>0.133333</td>\n",
       "      <td>0.000000</td>\n",
       "    </tr>\n",
       "    <tr>\n",
       "      <th>2</th>\n",
       "      <td>0.059880</td>\n",
       "      <td>0.042945</td>\n",
       "      <td>0.066667</td>\n",
       "      <td>0.066667</td>\n",
       "      <td>0.050000</td>\n",
       "    </tr>\n",
       "    <tr>\n",
       "      <th>3</th>\n",
       "      <td>0.261078</td>\n",
       "      <td>0.177914</td>\n",
       "      <td>0.066667</td>\n",
       "      <td>0.266667</td>\n",
       "      <td>0.000000</td>\n",
       "    </tr>\n",
       "    <tr>\n",
       "      <th>4</th>\n",
       "      <td>0.344910</td>\n",
       "      <td>0.453988</td>\n",
       "      <td>0.066667</td>\n",
       "      <td>0.066667</td>\n",
       "      <td>0.000000</td>\n",
       "    </tr>\n",
       "    <tr>\n",
       "      <th>...</th>\n",
       "      <td>...</td>\n",
       "      <td>...</td>\n",
       "      <td>...</td>\n",
       "      <td>...</td>\n",
       "      <td>...</td>\n",
       "    </tr>\n",
       "    <tr>\n",
       "      <th>1346</th>\n",
       "      <td>0.099401</td>\n",
       "      <td>0.124233</td>\n",
       "      <td>0.266667</td>\n",
       "      <td>0.200000</td>\n",
       "      <td>0.000000</td>\n",
       "    </tr>\n",
       "    <tr>\n",
       "      <th>1347</th>\n",
       "      <td>0.047904</td>\n",
       "      <td>0.073620</td>\n",
       "      <td>0.200000</td>\n",
       "      <td>0.133333</td>\n",
       "      <td>0.000000</td>\n",
       "    </tr>\n",
       "    <tr>\n",
       "      <th>1348</th>\n",
       "      <td>0.235928</td>\n",
       "      <td>0.292945</td>\n",
       "      <td>0.066667</td>\n",
       "      <td>0.200000</td>\n",
       "      <td>0.376316</td>\n",
       "    </tr>\n",
       "    <tr>\n",
       "      <th>1349</th>\n",
       "      <td>0.141317</td>\n",
       "      <td>0.193252</td>\n",
       "      <td>0.066667</td>\n",
       "      <td>0.066667</td>\n",
       "      <td>0.000000</td>\n",
       "    </tr>\n",
       "    <tr>\n",
       "      <th>1350</th>\n",
       "      <td>0.488623</td>\n",
       "      <td>0.615031</td>\n",
       "      <td>0.600000</td>\n",
       "      <td>0.333333</td>\n",
       "      <td>0.000000</td>\n",
       "    </tr>\n",
       "  </tbody>\n",
       "</table>\n",
       "<p>1351 rows × 5 columns</p>\n",
       "</div>"
      ],
      "text/plain": [
       "      surface_total_in_m2_std  surface_covered_in_m2_std  floor_std  \\\n",
       "0                    0.081437                   0.023006   0.133333   \n",
       "1                    0.273054                   0.300613   0.133333   \n",
       "2                    0.059880                   0.042945   0.066667   \n",
       "3                    0.261078                   0.177914   0.066667   \n",
       "4                    0.344910                   0.453988   0.066667   \n",
       "...                       ...                        ...        ...   \n",
       "1346                 0.099401                   0.124233   0.266667   \n",
       "1347                 0.047904                   0.073620   0.200000   \n",
       "1348                 0.235928                   0.292945   0.066667   \n",
       "1349                 0.141317                   0.193252   0.066667   \n",
       "1350                 0.488623                   0.615031   0.600000   \n",
       "\n",
       "      rooms_std  expenses_std  \n",
       "0      0.066667      0.000000  \n",
       "1      0.133333      0.000000  \n",
       "2      0.066667      0.050000  \n",
       "3      0.266667      0.000000  \n",
       "4      0.066667      0.000000  \n",
       "...         ...           ...  \n",
       "1346   0.200000      0.000000  \n",
       "1347   0.133333      0.000000  \n",
       "1348   0.200000      0.376316  \n",
       "1349   0.066667      0.000000  \n",
       "1350   0.333333      0.000000  \n",
       "\n",
       "[1351 rows x 5 columns]"
      ]
     },
     "execution_count": 93,
     "metadata": {},
     "output_type": "execute_result"
    }
   ],
   "source": [
    "numericals = ['surface_total_in_m2', 'surface_covered_in_m2', 'floor', 'rooms', 'expenses']\n",
    "\n",
    "X = data[numericals]\n",
    "\n",
    "scaler = MinMaxScaler()\n",
    "scaler.fit(X)\n",
    "\n",
    "std_numerical_data = scaler.transform(X)\n",
    "std_df = pd.DataFrame(std_numerical_data)\n",
    "std_df.columns = [i + '_std' for i in numericals]\n",
    "X = std_df\n",
    "X"
   ]
  },
  {
   "cell_type": "markdown",
   "metadata": {},
   "source": [
    "Ahora nuestro dataset de features serán las variables dummies y las variables numéricas estandarizadas"
   ]
  },
  {
   "cell_type": "markdown",
   "metadata": {},
   "source": [
    "La variable target es `price_aprox_usd`"
   ]
  },
  {
   "cell_type": "code",
   "execution_count": 94,
   "metadata": {},
   "outputs": [],
   "source": [
    "y = data.price_aprox_usd"
   ]
  },
  {
   "cell_type": "markdown",
   "metadata": {},
   "source": [
    "Paso 3:\n",
    "Separamos el conjunto train y test.\n",
    "* Spliteamos el dataframe el dataframe construido, con las variables dummies y estandarizadas.\n",
    "* El tamaño del conjunto de datos lo definimos en 30% de los datos.\n",
    "* fijamos la semilla de los nímeros aleatoaleatoriosrios."
   ]
  },
  {
   "cell_type": "code",
   "execution_count": 95,
   "metadata": {},
   "outputs": [],
   "source": [
    "X_train, X_test, y_train, y_test = train_test_split(X, y, test_size = 0.5, random_state = 117)"
   ]
  },
  {
   "cell_type": "markdown",
   "metadata": {},
   "source": [
    "Paso 4:\n",
    "Ajustemos una regresión lineal múltiple con los datos del conjunto de entrenamiento usando statsmodels y evaluemos la significancia de cada uno de los coeficientes"
   ]
  },
  {
   "cell_type": "code",
   "execution_count": 96,
   "metadata": {},
   "outputs": [
    {
     "data": {
      "text/html": [
       "<table class=\"simpletable\">\n",
       "<caption>OLS Regression Results</caption>\n",
       "<tr>\n",
       "  <th>Dep. Variable:</th>            <td>y</td>        <th>  R-squared:         </th> <td>   0.378</td> \n",
       "</tr>\n",
       "<tr>\n",
       "  <th>Model:</th>                   <td>OLS</td>       <th>  Adj. R-squared:    </th> <td>   0.373</td> \n",
       "</tr>\n",
       "<tr>\n",
       "  <th>Method:</th>             <td>Least Squares</td>  <th>  F-statistic:       </th> <td>   81.32</td> \n",
       "</tr>\n",
       "<tr>\n",
       "  <th>Date:</th>             <td>Sat, 05 Nov 2022</td> <th>  Prob (F-statistic):</th> <td>1.12e-66</td> \n",
       "</tr>\n",
       "<tr>\n",
       "  <th>Time:</th>                 <td>04:58:49</td>     <th>  Log-Likelihood:    </th> <td> -9674.5</td> \n",
       "</tr>\n",
       "<tr>\n",
       "  <th>No. Observations:</th>      <td>   675</td>      <th>  AIC:               </th> <td>1.936e+04</td>\n",
       "</tr>\n",
       "<tr>\n",
       "  <th>Df Residuals:</th>          <td>   669</td>      <th>  BIC:               </th> <td>1.939e+04</td>\n",
       "</tr>\n",
       "<tr>\n",
       "  <th>Df Model:</th>              <td>     5</td>      <th>                     </th>     <td> </td>    \n",
       "</tr>\n",
       "<tr>\n",
       "  <th>Covariance Type:</th>      <td>nonrobust</td>    <th>                     </th>     <td> </td>    \n",
       "</tr>\n",
       "</table>\n",
       "<table class=\"simpletable\">\n",
       "<tr>\n",
       "              <td></td>                 <th>coef</th>     <th>std err</th>      <th>t</th>      <th>P>|t|</th>  <th>[0.025</th>    <th>0.975]</th>  \n",
       "</tr>\n",
       "<tr>\n",
       "  <th>const</th>                     <td> 4.907e+04</td> <td>  3.6e+04</td> <td>    1.363</td> <td> 0.173</td> <td>-2.16e+04</td> <td>  1.2e+05</td>\n",
       "</tr>\n",
       "<tr>\n",
       "  <th>surface_total_in_m2_std</th>   <td>-2.012e+05</td> <td> 5.45e+05</td> <td>   -0.369</td> <td> 0.712</td> <td>-1.27e+06</td> <td> 8.69e+05</td>\n",
       "</tr>\n",
       "<tr>\n",
       "  <th>surface_covered_in_m2_std</th> <td> 2.738e+06</td> <td>  5.1e+05</td> <td>    5.374</td> <td> 0.000</td> <td> 1.74e+06</td> <td> 3.74e+06</td>\n",
       "</tr>\n",
       "<tr>\n",
       "  <th>floor_std</th>                 <td>  4.26e+04</td> <td> 1.02e+05</td> <td>    0.416</td> <td> 0.677</td> <td>-1.58e+05</td> <td> 2.43e+05</td>\n",
       "</tr>\n",
       "<tr>\n",
       "  <th>rooms_std</th>                 <td> 8682.6522</td> <td> 2.05e+05</td> <td>    0.042</td> <td> 0.966</td> <td>-3.93e+05</td> <td> 4.11e+05</td>\n",
       "</tr>\n",
       "<tr>\n",
       "  <th>expenses_std</th>              <td>-1.977e+04</td> <td> 1.66e+05</td> <td>   -0.119</td> <td> 0.905</td> <td>-3.46e+05</td> <td> 3.06e+05</td>\n",
       "</tr>\n",
       "</table>\n",
       "<table class=\"simpletable\">\n",
       "<tr>\n",
       "  <th>Omnibus:</th>       <td>719.467</td> <th>  Durbin-Watson:     </th> <td>   1.990</td> \n",
       "</tr>\n",
       "<tr>\n",
       "  <th>Prob(Omnibus):</th> <td> 0.000</td>  <th>  Jarque-Bera (JB):  </th> <td>38244.938</td>\n",
       "</tr>\n",
       "<tr>\n",
       "  <th>Skew:</th>          <td> 5.025</td>  <th>  Prob(JB):          </th> <td>    0.00</td> \n",
       "</tr>\n",
       "<tr>\n",
       "  <th>Kurtosis:</th>      <td>38.480</td>  <th>  Cond. No.          </th> <td>    49.1</td> \n",
       "</tr>\n",
       "</table><br/><br/>Notes:<br/>[1] Standard Errors assume that the covariance matrix of the errors is correctly specified."
      ],
      "text/plain": [
       "<class 'statsmodels.iolib.summary.Summary'>\n",
       "\"\"\"\n",
       "                            OLS Regression Results                            \n",
       "==============================================================================\n",
       "Dep. Variable:                      y   R-squared:                       0.378\n",
       "Model:                            OLS   Adj. R-squared:                  0.373\n",
       "Method:                 Least Squares   F-statistic:                     81.32\n",
       "Date:                Sat, 05 Nov 2022   Prob (F-statistic):           1.12e-66\n",
       "Time:                        04:58:49   Log-Likelihood:                -9674.5\n",
       "No. Observations:                 675   AIC:                         1.936e+04\n",
       "Df Residuals:                     669   BIC:                         1.939e+04\n",
       "Df Model:                           5                                         \n",
       "Covariance Type:            nonrobust                                         \n",
       "=============================================================================================\n",
       "                                coef    std err          t      P>|t|      [0.025      0.975]\n",
       "---------------------------------------------------------------------------------------------\n",
       "const                      4.907e+04    3.6e+04      1.363      0.173   -2.16e+04     1.2e+05\n",
       "surface_total_in_m2_std   -2.012e+05   5.45e+05     -0.369      0.712   -1.27e+06    8.69e+05\n",
       "surface_covered_in_m2_std  2.738e+06    5.1e+05      5.374      0.000    1.74e+06    3.74e+06\n",
       "floor_std                   4.26e+04   1.02e+05      0.416      0.677   -1.58e+05    2.43e+05\n",
       "rooms_std                  8682.6522   2.05e+05      0.042      0.966   -3.93e+05    4.11e+05\n",
       "expenses_std              -1.977e+04   1.66e+05     -0.119      0.905   -3.46e+05    3.06e+05\n",
       "==============================================================================\n",
       "Omnibus:                      719.467   Durbin-Watson:                   1.990\n",
       "Prob(Omnibus):                  0.000   Jarque-Bera (JB):            38244.938\n",
       "Skew:                           5.025   Prob(JB):                         0.00\n",
       "Kurtosis:                      38.480   Cond. No.                         49.1\n",
       "==============================================================================\n",
       "\n",
       "Notes:\n",
       "[1] Standard Errors assume that the covariance matrix of the errors is correctly specified.\n",
       "\"\"\""
      ]
     },
     "execution_count": 96,
     "metadata": {},
     "output_type": "execute_result"
    }
   ],
   "source": [
    "X_train_sm = sm.add_constant(X_train)\n",
    "y_train = list(y_train)\n",
    "\n",
    "model = sm.OLS(y_train, X_train_sm).fit()\n",
    "model.summary()"
   ]
  },
  {
   "cell_type": "markdown",
   "metadata": {},
   "source": [
    "Se ven muchos campos un un p-value muy alto. por lo tanto no podemos rechazar la hipótesis nula que dice que los coeficientes de esas dos variables son 0.\n"
   ]
  },
  {
   "cell_type": "code",
   "execution_count": 97,
   "metadata": {},
   "outputs": [],
   "source": [
    "no_reg_model_params = model.params"
   ]
  },
  {
   "cell_type": "markdown",
   "metadata": {},
   "source": [
    "Para este modelo de regresion lineal multiple, calculamos el error cuadratico en train y test."
   ]
  },
  {
   "cell_type": "code",
   "execution_count": 98,
   "metadata": {},
   "outputs": [
    {
     "name": "stdout",
     "output_type": "stream",
     "text": [
      "405825.8808745299\n",
      "339846.23371995613\n"
     ]
    }
   ],
   "source": [
    "sm_prediction_train = model.predict(X_train_sm)\n",
    "print(eval_measures.rmse(y_train, sm_prediction_train))\n",
    "\n",
    "X_test_sm = sm.add_constant(X_test)\n",
    "sm_prediction_test = model.predict(X_test_sm)\n",
    "print(eval_measures.rmse(y_test, sm_prediction_test))"
   ]
  },
  {
   "cell_type": "markdown",
   "metadata": {},
   "source": [
    "Vemos que pareciera no estar bien entrenado, ya que los resultados no son parecidos.\n",
    "\n",
    "Por otra parte, vimos que el `R-squared` y el `R-squared ajustado` dieron muy bajos, por lo que creemos que usando regularizaciòn podrìamos arreglar este problema.\n",
    "<pre>\n",
    "R-squared:\t0.175\n",
    "Adj. R-squared:\t0.170\n",
    "</pre>"
   ]
  },
  {
   "cell_type": "markdown",
   "metadata": {},
   "source": [
    "Paso 5:\n",
    "\n",
    "Ajustamos el modelo aplicando regularización de Lasso y validación cruzada para estimar el mejor valor de $\\alpha$ para este problema"
   ]
  },
  {
   "cell_type": "code",
   "execution_count": 99,
   "metadata": {},
   "outputs": [],
   "source": [
    "import warnings\n",
    "warnings.filterwarnings('ignore')"
   ]
  },
  {
   "cell_type": "code",
   "execution_count": 100,
   "metadata": {},
   "outputs": [
    {
     "data": {
      "text/plain": [
       "0.3778909345324719"
      ]
     },
     "execution_count": 100,
     "metadata": {},
     "output_type": "execute_result"
    }
   ],
   "source": [
    "# Definimos el rango de de búsqueda del hiperparametro explicitamente\n",
    "# normalize = False, porque ya normalizamos.\n",
    "# cv=5 -> Dividimos el entrenamiento en 5.\n",
    "lm_lasso = linear_model.LassoCV(alphas=[0.00001, 0.00005, 0.0001, 0.0005, 0.001, 0.005, 0.01,\\\n",
    "                                        0.05, 0.1, 1, 5, 10, 15, 30, 40, 50, 100],\\\n",
    "                                        normalize=False, cv=5) \n",
    "\n",
    "model_cv = lm_lasso.fit(X_train, y_train)\n",
    "\n",
    "model_cv.score(X_train, y_train)"
   ]
  },
  {
   "cell_type": "code",
   "execution_count": 101,
   "metadata": {},
   "outputs": [
    {
     "data": {
      "text/plain": [
       "array([     -0.        , 2552089.65034498,   39326.87640513,\n",
       "             0.        ,   -4983.57015565])"
      ]
     },
     "execution_count": 101,
     "metadata": {},
     "output_type": "execute_result"
    }
   ],
   "source": [
    "model_cv.coef_"
   ]
  },
  {
   "cell_type": "code",
   "execution_count": 102,
   "metadata": {},
   "outputs": [
    {
     "data": {
      "text/plain": [
       "52890.21000199427"
      ]
     },
     "execution_count": 102,
     "metadata": {},
     "output_type": "execute_result"
    }
   ],
   "source": [
    "model_cv.intercept_"
   ]
  },
  {
   "cell_type": "code",
   "execution_count": 103,
   "metadata": {},
   "outputs": [
    {
     "data": {
      "text/plain": [
       "100.0"
      ]
     },
     "execution_count": 103,
     "metadata": {},
     "output_type": "execute_result"
    }
   ],
   "source": [
    "model_cv.alpha_"
   ]
  },
  {
   "cell_type": "markdown",
   "metadata": {},
   "source": [
    "Se planteron todos los valores de alfa posibles,\n",
    "Como dividimos el entrenamiento en 5, se calcula el error cuadratico promedio de los 5 entrenamientos, y obtenemos el Alfa.\n",
    "Ahora chequeamos que el resultado no sea uno de los valores extremos: En este caso, `0.1750431565177899` no es extremo, por lo que lo tomamos como válido y vamos a confiar en ese alfa"
   ]
  },
  {
   "cell_type": "code",
   "execution_count": 104,
   "metadata": {},
   "outputs": [
    {
     "data": {
      "text/plain": [
       "0.3778909345324719"
      ]
     },
     "execution_count": 104,
     "metadata": {},
     "output_type": "execute_result"
    }
   ],
   "source": [
    "model_cv.score(X_train, y_train)"
   ]
  },
  {
   "cell_type": "markdown",
   "metadata": {},
   "source": [
    "Paso 6:\n",
    "\n",
    "Ajustemos los datos de entrenamiento con una regresión con regularización de Lasso para el valor de $\\alpha$ calculado en el punto anterior usando statsmodels.\n",
    "\n",
    "Usemos scatterplots para mostrar \n",
    "\n",
    "* los valores de los coeficientes de la regresión lineal múltiple obtenidos en el Paso 3, y los valores de los coeficientes de la regresión lineal con regularización de Lasso para el modelo entrenado.\n",
    "\n",
    "* los valores de los residuos en entrenamiento resultado del Paso 3, y los residuos en entrenamiento para el modelo con regularización."
   ]
  },
  {
   "cell_type": "code",
   "execution_count": 105,
   "metadata": {},
   "outputs": [],
   "source": [
    "best_alpha = model_cv.alpha_\n",
    "\n",
    "#L1_wt : 0, the fit is ridge regression. 1, the fit is the lasso \n",
    "\n",
    "no_reg_model = sm.OLS(y_train, X_train_sm)\n",
    "\n",
    "reg_model = no_reg_model.fit_regularized(alpha = best_alpha, L1_wt = 1)"
   ]
  },
  {
   "cell_type": "code",
   "execution_count": 106,
   "metadata": {},
   "outputs": [
    {
     "data": {
      "text/plain": [
       "const                        5.594316e+04\n",
       "surface_total_in_m2_std      4.078195e+05\n",
       "surface_covered_in_m2_std    2.187052e+06\n",
       "floor_std                    4.045954e+04\n",
       "rooms_std                    0.000000e+00\n",
       "expenses_std                -4.036936e+03\n",
       "dtype: float64"
      ]
     },
     "execution_count": 106,
     "metadata": {},
     "output_type": "execute_result"
    }
   ],
   "source": [
    "reg_model.params"
   ]
  },
  {
   "cell_type": "markdown",
   "metadata": {},
   "source": [
    "Acá vemos que lasso hizo cero, elimino la variable expensas, ya que cree que no es buena para el modelo."
   ]
  },
  {
   "cell_type": "code",
   "execution_count": 107,
   "metadata": {},
   "outputs": [
    {
     "data": {
      "image/png": "[encoded data removed]",
      "text/plain": [
       "<Figure size 640x480 with 1 Axes>"
      ]
     },
     "metadata": {},
     "output_type": "display_data"
    }
   ],
   "source": [
    "sns.scatterplot(x=reg_model.params, y=no_reg_model_params);"
   ]
  },
  {
   "cell_type": "code",
   "execution_count": 108,
   "metadata": {},
   "outputs": [
    {
     "data": {
      "text/plain": [
       "<AxesSubplot: >"
      ]
     },
     "execution_count": 108,
     "metadata": {},
     "output_type": "execute_result"
    },
    {
     "data": {
      "image/png": "[encoded data removed]",
      "text/plain": [
       "<Figure size 640x480 with 1 Axes>"
      ]
     },
     "metadata": {},
     "output_type": "display_data"
    }
   ],
   "source": [
    "reg_residuals = y_train - reg_model.fittedvalues\n",
    "linear_residuals = y_train - model.fittedvalues\n",
    "sns.scatterplot(x = reg_residuals, y = linear_residuals)"
   ]
  },
  {
   "cell_type": "markdown",
   "metadata": {},
   "source": [
    "Paso 7:\n",
    "\n",
    "Usamos statsmodels y scikit-learn para calcular la performance en test del modelo construído y comparemos los resultados de las dos bibliotecas usando como métricas el error absoluto medio (MAE) y la raiz del error cuadrático medio (RMSE) "
   ]
  },
  {
   "cell_type": "code",
   "execution_count": 109,
   "metadata": {},
   "outputs": [
    {
     "data": {
      "text/plain": [
       "1080    2.463865e+05\n",
       "953     6.414069e+05\n",
       "1256    1.747948e+05\n",
       "303     1.427895e+06\n",
       "672     3.737485e+05\n",
       "            ...     \n",
       "76      2.318209e+05\n",
       "982     1.545459e+05\n",
       "1265    5.845310e+05\n",
       "859     2.492322e+05\n",
       "23      2.333929e+05\n",
       "Length: 676, dtype: float64"
      ]
     },
     "execution_count": 109,
     "metadata": {},
     "output_type": "execute_result"
    }
   ],
   "source": [
    "sm_prediction = reg_model.predict(X_test_sm)\n",
    "sm_prediction"
   ]
  },
  {
   "cell_type": "code",
   "execution_count": 110,
   "metadata": {},
   "outputs": [
    {
     "data": {
      "text/plain": [
       "<AxesSubplot: xlabel='price_aprox_usd'>"
      ]
     },
     "execution_count": 110,
     "metadata": {},
     "output_type": "execute_result"
    },
    {
     "data": {
      "image/png": "[encoded data removed]",
      "text/plain": [
       "<Figure size 640x480 with 1 Axes>"
      ]
     },
     "metadata": {},
     "output_type": "display_data"
    }
   ],
   "source": [
    "skl_lasso = linear_model.Lasso(alpha = best_alpha, fit_intercept=True, normalize=False)\n",
    "skl_lasso = skl_lasso.fit(X= X_train, y = y_train)\n",
    "skl_prediction = skl_lasso.predict(X_test)\n",
    "\n",
    "skl_residuals = y_test - skl_prediction\n",
    "sm_residuals = y_test - sm_prediction\n",
    "sns.scatterplot(x = skl_residuals, y = sm_residuals)"
   ]
  },
  {
   "cell_type": "code",
   "execution_count": 111,
   "metadata": {},
   "outputs": [
    {
     "data": {
      "image/png": "[encoded data removed]",
      "text/plain": [
       "<Figure size 640x480 with 1 Axes>"
      ]
     },
     "metadata": {},
     "output_type": "display_data"
    }
   ],
   "source": [
    "lasso_coef = np.insert(skl_lasso.coef_, 0, skl_lasso.intercept_)\n",
    "sns.scatterplot(x = lasso_coef, y = reg_model.params);"
   ]
  },
  {
   "cell_type": "code",
   "execution_count": 112,
   "metadata": {},
   "outputs": [
    {
     "data": {
      "text/plain": [
       "array([  52890.21000199,      -0.        , 2552089.65034498,\n",
       "         39326.87640513,       0.        ,   -4983.57015565])"
      ]
     },
     "execution_count": 112,
     "metadata": {},
     "output_type": "execute_result"
    }
   ],
   "source": [
    "lasso_coef"
   ]
  },
  {
   "cell_type": "code",
   "execution_count": 113,
   "metadata": {},
   "outputs": [
    {
     "data": {
      "text/plain": [
       "const                        5.594316e+04\n",
       "surface_total_in_m2_std      4.078195e+05\n",
       "surface_covered_in_m2_std    2.187052e+06\n",
       "floor_std                    4.045954e+04\n",
       "rooms_std                    0.000000e+00\n",
       "expenses_std                -4.036936e+03\n",
       "dtype: float64"
      ]
     },
     "execution_count": 113,
     "metadata": {},
     "output_type": "execute_result"
    }
   ],
   "source": [
    "reg_model.params"
   ]
  },
  {
   "cell_type": "markdown",
   "metadata": {},
   "source": [
    "Métricas en `statsmodels`"
   ]
  },
  {
   "cell_type": "code",
   "execution_count": 114,
   "metadata": {},
   "outputs": [
    {
     "data": {
      "text/plain": [
       "340059.39444384293"
      ]
     },
     "execution_count": 114,
     "metadata": {},
     "output_type": "execute_result"
    }
   ],
   "source": [
    "eval_measures.rmse(y_test, sm_prediction)"
   ]
  },
  {
   "cell_type": "code",
   "execution_count": 115,
   "metadata": {},
   "outputs": [
    {
     "data": {
      "text/plain": [
       "148462.68463332593"
      ]
     },
     "execution_count": 115,
     "metadata": {},
     "output_type": "execute_result"
    }
   ],
   "source": [
    "eval_measures.meanabs(y_test, sm_prediction)"
   ]
  },
  {
   "cell_type": "code",
   "execution_count": 116,
   "metadata": {},
   "outputs": [
    {
     "data": {
      "text/plain": [
       "0.3845654955078701"
      ]
     },
     "execution_count": 116,
     "metadata": {},
     "output_type": "execute_result"
    }
   ],
   "source": [
    "# de scikit-learn\n",
    "metrics.r2_score(y_test, sm_prediction)"
   ]
  },
  {
   "cell_type": "markdown",
   "metadata": {},
   "source": [
    "Métricas en `scikit-learn`\n"
   ]
  },
  {
   "cell_type": "code",
   "execution_count": 117,
   "metadata": {},
   "outputs": [
    {
     "data": {
      "text/plain": [
       "339797.9517183919"
      ]
     },
     "execution_count": 117,
     "metadata": {},
     "output_type": "execute_result"
    }
   ],
   "source": [
    "np.sqrt(metrics.mean_squared_error(y_test, skl_prediction))"
   ]
  },
  {
   "cell_type": "code",
   "execution_count": 118,
   "metadata": {},
   "outputs": [
    {
     "data": {
      "text/plain": [
       "148024.82210945056"
      ]
     },
     "execution_count": 118,
     "metadata": {},
     "output_type": "execute_result"
    }
   ],
   "source": [
    "metrics.mean_absolute_error(y_test, skl_prediction)"
   ]
  },
  {
   "cell_type": "code",
   "execution_count": 119,
   "metadata": {},
   "outputs": [
    {
     "data": {
      "text/plain": [
       "0.38551144215910294"
      ]
     },
     "execution_count": 119,
     "metadata": {},
     "output_type": "execute_result"
    }
   ],
   "source": [
    "metrics.r2_score(y_test, skl_prediction)"
   ]
  },
  {
   "cell_type": "code",
   "execution_count": 144,
   "metadata": {},
   "outputs": [
    {
     "data": {
      "text/plain": [
       "array([ 232945.61478093,  642649.19125888,  175115.33303964,\n",
       "       1374613.55416457,  376480.33202045,  185974.63962121,\n",
       "        270795.63791107,  204132.92662288,  364737.58823052,\n",
       "        183389.72728194,  185974.63962121,  742714.73185872,\n",
       "        210789.46279178,  331892.62021775,  296902.91725127,\n",
       "       1075838.25531669,  180767.9355216 ,  172939.43966165,\n",
       "        227738.91068132,  114042.11549573])"
      ]
     },
     "execution_count": 144,
     "metadata": {},
     "output_type": "execute_result"
    }
   ],
   "source": [
    "o = data[:20][['place_name', 'price_aprox_usd']]\n",
    "p = skl_lasso.predict(X_test[:20])\n",
    "for idx in range(len(p)):\n",
    "    print(f'Localidad: {o.place_name[idx]:<25}Precio dataset: {o.price_aprox_usd[idx]:<8}Precio predecido:{p[idx]:<25}Diferencia: {p[idx]-o.price_aprox_usd[idx]}')"
   ]
  },
  {
   "cell_type": "code",
   "execution_count": 130,
   "metadata": {},
   "outputs": [
    {
     "ename": "KeyError",
     "evalue": "0",
     "output_type": "error",
     "traceback": [
      "\u001b[0;31m---------------------------------------------------------------------------\u001b[0m",
      "\u001b[0;31mKeyError\u001b[0m                                  Traceback (most recent call last)",
      "File \u001b[0;32m~/.local/share/virtualenvs/DH-TP1-clear-data-properati-1CZPKj1j/lib/python3.9/site-packages/pandas/core/indexes/base.py:3803\u001b[0m, in \u001b[0;36mIndex.get_loc\u001b[0;34m(self, key, method, tolerance)\u001b[0m\n\u001b[1;32m   3802\u001b[0m \u001b[39mtry\u001b[39;00m:\n\u001b[0;32m-> 3803\u001b[0m     \u001b[39mreturn\u001b[39;00m \u001b[39mself\u001b[39;49m\u001b[39m.\u001b[39;49m_engine\u001b[39m.\u001b[39;49mget_loc(casted_key)\n\u001b[1;32m   3804\u001b[0m \u001b[39mexcept\u001b[39;00m \u001b[39mKeyError\u001b[39;00m \u001b[39mas\u001b[39;00m err:\n",
      "File \u001b[0;32m~/.local/share/virtualenvs/DH-TP1-clear-data-properati-1CZPKj1j/lib/python3.9/site-packages/pandas/_libs/index.pyx:138\u001b[0m, in \u001b[0;36mpandas._libs.index.IndexEngine.get_loc\u001b[0;34m()\u001b[0m\n",
      "File \u001b[0;32m~/.local/share/virtualenvs/DH-TP1-clear-data-properati-1CZPKj1j/lib/python3.9/site-packages/pandas/_libs/index.pyx:165\u001b[0m, in \u001b[0;36mpandas._libs.index.IndexEngine.get_loc\u001b[0;34m()\u001b[0m\n",
      "File \u001b[0;32mpandas/_libs/hashtable_class_helper.pxi:2263\u001b[0m, in \u001b[0;36mpandas._libs.hashtable.Int64HashTable.get_item\u001b[0;34m()\u001b[0m\n",
      "File \u001b[0;32mpandas/_libs/hashtable_class_helper.pxi:2273\u001b[0m, in \u001b[0;36mpandas._libs.hashtable.Int64HashTable.get_item\u001b[0;34m()\u001b[0m\n",
      "\u001b[0;31mKeyError\u001b[0m: 0",
      "\nThe above exception was the direct cause of the following exception:\n",
      "\u001b[0;31mKeyError\u001b[0m                                  Traceback (most recent call last)",
      "Cell \u001b[0;32mIn [130], line 4\u001b[0m\n\u001b[1;32m      2\u001b[0m p \u001b[39m=\u001b[39m skl_lasso\u001b[39m.\u001b[39mpredict(X_test)\n\u001b[1;32m      3\u001b[0m \u001b[39mfor\u001b[39;00m idx \u001b[39min\u001b[39;00m \u001b[39mrange\u001b[39m(\u001b[39mlen\u001b[39m(p)):\n\u001b[0;32m----> 4\u001b[0m     \u001b[39mif\u001b[39;00m \u001b[39mabs\u001b[39m(p[idx] \u001b[39m-\u001b[39m o\u001b[39m.\u001b[39mprice_aprox_usd[idx])\u001b[39m<\u001b[39m\u001b[39m5000\u001b[39m:\n\u001b[1;32m      5\u001b[0m         \u001b[39mprint\u001b[39m(\u001b[39mf\u001b[39m\u001b[39m'\u001b[39m\u001b[39mLocalidad: \u001b[39m\u001b[39m{\u001b[39;00mo\u001b[39m.\u001b[39mplace_name[idx]\u001b[39m:\u001b[39;00m\u001b[39m<25\u001b[39m\u001b[39m}\u001b[39;00m\u001b[39mPrecio dataset: \u001b[39m\u001b[39m{\u001b[39;00mo\u001b[39m.\u001b[39mprice_aprox_usd[idx]\u001b[39m:\u001b[39;00m\u001b[39m<8\u001b[39m\u001b[39m}\u001b[39;00m\u001b[39mPrecio predecido:\u001b[39m\u001b[39m{\u001b[39;00mp[idx]\u001b[39m:\u001b[39;00m\u001b[39m<25\u001b[39m\u001b[39m}\u001b[39;00m\u001b[39mDiferencia: \u001b[39m\u001b[39m{\u001b[39;00mp[idx]\u001b[39m-\u001b[39mo\u001b[39m.\u001b[39mprice_aprox_usd[idx]\u001b[39m:\u001b[39;00m\u001b[39m.0f\u001b[39m\u001b[39m}\u001b[39;00m\u001b[39m'\u001b[39m)\n",
      "File \u001b[0;32m~/.local/share/virtualenvs/DH-TP1-clear-data-properati-1CZPKj1j/lib/python3.9/site-packages/pandas/core/series.py:981\u001b[0m, in \u001b[0;36mSeries.__getitem__\u001b[0;34m(self, key)\u001b[0m\n\u001b[1;32m    978\u001b[0m     \u001b[39mreturn\u001b[39;00m \u001b[39mself\u001b[39m\u001b[39m.\u001b[39m_values[key]\n\u001b[1;32m    980\u001b[0m \u001b[39melif\u001b[39;00m key_is_scalar:\n\u001b[0;32m--> 981\u001b[0m     \u001b[39mreturn\u001b[39;00m \u001b[39mself\u001b[39;49m\u001b[39m.\u001b[39;49m_get_value(key)\n\u001b[1;32m    983\u001b[0m \u001b[39mif\u001b[39;00m is_hashable(key):\n\u001b[1;32m    984\u001b[0m     \u001b[39m# Otherwise index.get_value will raise InvalidIndexError\u001b[39;00m\n\u001b[1;32m    985\u001b[0m     \u001b[39mtry\u001b[39;00m:\n\u001b[1;32m    986\u001b[0m         \u001b[39m# For labels that don't resolve as scalars like tuples and frozensets\u001b[39;00m\n",
      "File \u001b[0;32m~/.local/share/virtualenvs/DH-TP1-clear-data-properati-1CZPKj1j/lib/python3.9/site-packages/pandas/core/series.py:1089\u001b[0m, in \u001b[0;36mSeries._get_value\u001b[0;34m(self, label, takeable)\u001b[0m\n\u001b[1;32m   1086\u001b[0m     \u001b[39mreturn\u001b[39;00m \u001b[39mself\u001b[39m\u001b[39m.\u001b[39m_values[label]\n\u001b[1;32m   1088\u001b[0m \u001b[39m# Similar to Index.get_value, but we do not fall back to positional\u001b[39;00m\n\u001b[0;32m-> 1089\u001b[0m loc \u001b[39m=\u001b[39m \u001b[39mself\u001b[39;49m\u001b[39m.\u001b[39;49mindex\u001b[39m.\u001b[39;49mget_loc(label)\n\u001b[1;32m   1090\u001b[0m \u001b[39mreturn\u001b[39;00m \u001b[39mself\u001b[39m\u001b[39m.\u001b[39mindex\u001b[39m.\u001b[39m_get_values_for_loc(\u001b[39mself\u001b[39m, loc, label)\n",
      "File \u001b[0;32m~/.local/share/virtualenvs/DH-TP1-clear-data-properati-1CZPKj1j/lib/python3.9/site-packages/pandas/core/indexes/base.py:3805\u001b[0m, in \u001b[0;36mIndex.get_loc\u001b[0;34m(self, key, method, tolerance)\u001b[0m\n\u001b[1;32m   3803\u001b[0m     \u001b[39mreturn\u001b[39;00m \u001b[39mself\u001b[39m\u001b[39m.\u001b[39m_engine\u001b[39m.\u001b[39mget_loc(casted_key)\n\u001b[1;32m   3804\u001b[0m \u001b[39mexcept\u001b[39;00m \u001b[39mKeyError\u001b[39;00m \u001b[39mas\u001b[39;00m err:\n\u001b[0;32m-> 3805\u001b[0m     \u001b[39mraise\u001b[39;00m \u001b[39mKeyError\u001b[39;00m(key) \u001b[39mfrom\u001b[39;00m \u001b[39merr\u001b[39;00m\n\u001b[1;32m   3806\u001b[0m \u001b[39mexcept\u001b[39;00m \u001b[39mTypeError\u001b[39;00m:\n\u001b[1;32m   3807\u001b[0m     \u001b[39m# If we have a listlike key, _check_indexing_error will raise\u001b[39;00m\n\u001b[1;32m   3808\u001b[0m     \u001b[39m#  InvalidIndexError. Otherwise we fall through and re-raise\u001b[39;00m\n\u001b[1;32m   3809\u001b[0m     \u001b[39m#  the TypeError.\u001b[39;00m\n\u001b[1;32m   3810\u001b[0m     \u001b[39mself\u001b[39m\u001b[39m.\u001b[39m_check_indexing_error(key)\n",
      "\u001b[0;31mKeyError\u001b[0m: 0"
     ]
    }
   ],
   "source": [
    "o = data[['place_name', 'price_aprox_usd']]\n",
    "p = skl_lasso.predict(X_test)\n",
    "for idx in range(len(p)):\n",
    "    if abs(p[idx] - o.price_aprox_usd[idx])<5000:\n",
    "        print(f'Localidad: {o.place_name[idx]:<25}Precio dataset: {o.price_aprox_usd[idx]:<8}Precio predecido:{p[idx]:<25}Diferencia: {p[idx]-o.price_aprox_usd[idx]:.0f}')"
   ]
  }
 ],
 "metadata": {
  "kernelspec": {
   "display_name": "Python 3.9.13 ('DH-TP1-clear-data-properati-1CZPKj1j')",
   "language": "python",
   "name": "python3"
  },
  "language_info": {
   "codemirror_mode": {
    "name": "ipython",
    "version": 3
   },
   "file_extension": ".py",
   "mimetype": "text/x-python",
   "name": "python",
   "nbconvert_exporter": "python",
   "pygments_lexer": "ipython3",
   "version": "3.9.13"
  },
  "orig_nbformat": 4,
  "vscode": {
   "interpreter": {
    "hash": "90f0a836a3448f30c7aca2e2a74571b042914736f1e7cb400854b0a44c3f2e02"
   }
  }
 },
 "nbformat": 4,
 "nbformat_minor": 2
}
