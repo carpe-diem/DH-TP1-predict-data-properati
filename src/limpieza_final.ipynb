{
 "cells": [
  {
   "cell_type": "code",
   "execution_count": 1,
   "metadata": {},
   "outputs": [],
   "source": [
    "# Lo primero que hacemos es importar todas las librerias necesarias.\n",
    "import pandas as pd\n",
    "import numpy as np"
   ]
  },
  {
   "cell_type": "code",
   "execution_count": 2,
   "metadata": {},
   "outputs": [
    {
     "data": {
      "text/html": [
       "<div>\n",
       "<style scoped>\n",
       "    .dataframe tbody tr th:only-of-type {\n",
       "        vertical-align: middle;\n",
       "    }\n",
       "\n",
       "    .dataframe tbody tr th {\n",
       "        vertical-align: top;\n",
       "    }\n",
       "\n",
       "    .dataframe thead th {\n",
       "        text-align: right;\n",
       "    }\n",
       "</style>\n",
       "<table border=\"1\" class=\"dataframe\">\n",
       "  <thead>\n",
       "    <tr style=\"text-align: right;\">\n",
       "      <th></th>\n",
       "      <th>Unnamed: 0.1</th>\n",
       "      <th>Unnamed: 0</th>\n",
       "      <th>property_type</th>\n",
       "      <th>place_name</th>\n",
       "      <th>place_with_parent_names</th>\n",
       "      <th>state_name</th>\n",
       "      <th>lat-lon</th>\n",
       "      <th>lat</th>\n",
       "      <th>lon</th>\n",
       "      <th>price_aprox_local_currency</th>\n",
       "      <th>...</th>\n",
       "      <th>price_per_m2</th>\n",
       "      <th>floor</th>\n",
       "      <th>rooms</th>\n",
       "      <th>expenses</th>\n",
       "      <th>description</th>\n",
       "      <th>title</th>\n",
       "      <th>ciudad_chica</th>\n",
       "      <th>price_usd_per_m2_median</th>\n",
       "      <th>price_per_m2_median</th>\n",
       "      <th>expenses_category</th>\n",
       "    </tr>\n",
       "  </thead>\n",
       "  <tbody>\n",
       "    <tr>\n",
       "      <th>3935</th>\n",
       "      <td>100130</td>\n",
       "      <td>100130.0</td>\n",
       "      <td>apartment</td>\n",
       "      <td>Rosario</td>\n",
       "      <td>|Argentina|Santa Fe|Rosario|</td>\n",
       "      <td>Santa Fe</td>\n",
       "      <td>-33.16667,-60.75</td>\n",
       "      <td>-33.166670</td>\n",
       "      <td>-60.750000</td>\n",
       "      <td>1118212.24</td>\n",
       "      <td>...</td>\n",
       "      <td>37666.666667</td>\n",
       "      <td>NaN</td>\n",
       "      <td>NaN</td>\n",
       "      <td>0.0</td>\n",
       "      <td>Sergio Villella Inmobiliaria presenta departam...</td>\n",
       "      <td>Departamento - Macrocentro</td>\n",
       "      <td>Rosario</td>\n",
       "      <td>1641.594734</td>\n",
       "      <td>29192.45283</td>\n",
       "      <td>Sin Expensas</td>\n",
       "    </tr>\n",
       "    <tr>\n",
       "      <th>1923</th>\n",
       "      <td>44896</td>\n",
       "      <td>44896.0</td>\n",
       "      <td>apartment</td>\n",
       "      <td>Rosario</td>\n",
       "      <td>|Argentina|Santa Fe|Rosario|</td>\n",
       "      <td>Santa Fe</td>\n",
       "      <td>-32.93875560000001,-60.6576955</td>\n",
       "      <td>-32.938756</td>\n",
       "      <td>-60.657696</td>\n",
       "      <td>20291175.00</td>\n",
       "      <td>...</td>\n",
       "      <td>37096.774194</td>\n",
       "      <td>449.0</td>\n",
       "      <td>1.0</td>\n",
       "      <td>0.0</td>\n",
       "      <td>1119-MC089: Rosario: Rodriguez 449 Studio VIII...</td>\n",
       "      <td>Monoambiente en venta en Rosario: Rodriguez 449</td>\n",
       "      <td>Rosario</td>\n",
       "      <td>1641.594734</td>\n",
       "      <td>29192.45283</td>\n",
       "      <td>Sin Expensas</td>\n",
       "    </tr>\n",
       "  </tbody>\n",
       "</table>\n",
       "<p>2 rows × 24 columns</p>\n",
       "</div>"
      ],
      "text/plain": [
       "      Unnamed: 0.1  Unnamed: 0 property_type place_name  \\\n",
       "3935        100130    100130.0     apartment    Rosario   \n",
       "1923         44896     44896.0     apartment    Rosario   \n",
       "\n",
       "           place_with_parent_names state_name                         lat-lon  \\\n",
       "3935  |Argentina|Santa Fe|Rosario|   Santa Fe                -33.16667,-60.75   \n",
       "1923  |Argentina|Santa Fe|Rosario|   Santa Fe  -32.93875560000001,-60.6576955   \n",
       "\n",
       "            lat        lon  price_aprox_local_currency  ...  price_per_m2  \\\n",
       "3935 -33.166670 -60.750000                  1118212.24  ...  37666.666667   \n",
       "1923 -32.938756 -60.657696                 20291175.00  ...  37096.774194   \n",
       "\n",
       "      floor  rooms  expenses  \\\n",
       "3935    NaN    NaN       0.0   \n",
       "1923  449.0    1.0       0.0   \n",
       "\n",
       "                                            description  \\\n",
       "3935  Sergio Villella Inmobiliaria presenta departam...   \n",
       "1923  1119-MC089: Rosario: Rodriguez 449 Studio VIII...   \n",
       "\n",
       "                                                title  ciudad_chica  \\\n",
       "3935                       Departamento - Macrocentro       Rosario   \n",
       "1923  Monoambiente en venta en Rosario: Rodriguez 449       Rosario   \n",
       "\n",
       "      price_usd_per_m2_median price_per_m2_median expenses_category  \n",
       "3935              1641.594734         29192.45283      Sin Expensas  \n",
       "1923              1641.594734         29192.45283      Sin Expensas  \n",
       "\n",
       "[2 rows x 24 columns]"
      ]
     },
     "metadata": {},
     "output_type": "display_data"
    }
   ],
   "source": [
    "# Abrimos el dataset y hacemos un chequeo rápido para saber cantidad de registros y miramos la composición del mismo.\n",
    "filename = \"../dataset/dataset_rosario.csv\"\n",
    "data = pd.read_csv(filename)\n",
    "\n",
    "display(data.sample(n=2))"
   ]
  },
  {
   "cell_type": "markdown",
   "metadata": {},
   "source": [
    "Desde acá hacemos la limpieza final.\n",
    "\n",
    "Primero filtramos por departamentos."
   ]
  },
  {
   "cell_type": "code",
   "execution_count": 3,
   "metadata": {},
   "outputs": [],
   "source": [
    "data = data[(data.property_type==\"apartment\")]\n",
    "data.loc[data['price_aprox_usd']<1000,'price_aprox_usd'] = np.nan\n",
    "data.dropna(subset=['price_aprox_usd'], inplace=True)\n"
   ]
  },
  {
   "cell_type": "code",
   "execution_count": 4,
   "metadata": {},
   "outputs": [
    {
     "data": {
      "text/plain": [
       "(4649, 24)"
      ]
     },
     "execution_count": 4,
     "metadata": {},
     "output_type": "execute_result"
    }
   ],
   "source": [
    "#Revisamos el nuevo tamaño\n",
    "data.shape"
   ]
  },
  {
   "cell_type": "markdown",
   "metadata": {},
   "source": [
    "# TODO Alberto -> crear columnas de distrito y barrio. Hacer gráfico."
   ]
  },
  {
   "cell_type": "code",
   "execution_count": 12,
   "metadata": {},
   "outputs": [],
   "source": [
    "# TODO"
   ]
  }
 ],
 "metadata": {
  "kernelspec": {
   "display_name": "Python 3.8.13 ('dhdsblend2021')",
   "language": "python",
   "name": "python3"
  },
  "language_info": {
   "codemirror_mode": {
    "name": "ipython",
    "version": 3
   },
   "file_extension": ".py",
   "mimetype": "text/x-python",
   "name": "python",
   "nbconvert_exporter": "python",
   "pygments_lexer": "ipython3",
   "version": "3.8.13"
  },
  "orig_nbformat": 4,
  "vscode": {
   "interpreter": {
    "hash": "efc208fdaa12fe71d644c382e37592789e7715eab6097afaedaaf3f1e1734556"
   }
  }
 },
 "nbformat": 4,
 "nbformat_minor": 2
}
