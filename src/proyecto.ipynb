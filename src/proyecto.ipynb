{
 "cells": [
  {
   "cell_type": "markdown",
   "metadata": {},
   "source": [
    "# Trabajo Práctico N°2: Modelo de predicción de precios de propiedades "
   ]
  },
  {
   "cell_type": "markdown",
   "metadata": {},
   "source": [
    "# Digital House - Trabajo Práctico Nº2\n",
    "## Desafío 2. Modelo para el calculo del precio por m2 de propiedades\n",
    "\n",
    "Grupo Nª2\n",
    "Alumnos:\n",
    "* Alberto Paparelli\n",
    "* André Song\n",
    "* Marianela Riz\n",
    "* Gloria Caravajal\n",
    "* Franco Emanuel Rodriguez\n",
    "\n",
    "Objetivos:\n",
    "● Seleccionar los datos a modelar. Justificar esa selección.\n",
    "● Entrenar al menos tres modelos de regresión lineal distintos sobre estos datos.\n",
    "● Evaluar la performance de los modelos y comparar ventajas y desventajas de cada\n",
    "uno.\n",
    "● Determinar la importancia de las features incluidas en la predicción. Interpretar."
   ]
  },
  {
   "cell_type": "markdown",
   "metadata": {},
   "source": [
    "# Importación de librerias"
   ]
  },
  {
   "cell_type": "code",
   "execution_count": null,
   "metadata": {},
   "outputs": [],
   "source": [
    "%matplotlib inline\n",
    "from matplotlib import pyplot as plt\n",
    "import numpy as np\n",
    "import pandas as pd\n",
    "from scipy import stats\n",
    "import seaborn as sns\n",
    "from sklearn import datasets\n",
    "from sklearn.model_selection import train_test_split, KFold, cross_val_score\n",
    "from sklearn.linear_model import LinearRegression, Lasso, LassoCV, Ridge, RidgeCV\n",
    "from sklearn.preprocessing import PolynomialFeatures, StandardScaler\n",
    "from sklearn.metrics import mean_squared_error, r2_score\n",
    "import warnings\n",
    "from sklearn.exceptions import DataConversionWarning\n",
    "warnings.filterwarnings(action='ignore', category=DataConversionWarning)\n",
    "warnings.simplefilter('ignore', category=FutureWarning)"
   ]
  }
 ],
 "metadata": {
  "kernelspec": {
   "display_name": "Python 3.8.13 ('dhdsblend2021')",
   "language": "python",
   "name": "python3"
  },
  "language_info": {
   "name": "python",
   "version": "3.8.13"
  },
  "orig_nbformat": 4,
  "vscode": {
   "interpreter": {
    "hash": "efc208fdaa12fe71d644c382e37592789e7715eab6097afaedaaf3f1e1734556"
   }
  }
 },
 "nbformat": 4,
 "nbformat_minor": 2
}
