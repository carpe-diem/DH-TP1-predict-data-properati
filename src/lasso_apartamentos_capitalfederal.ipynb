{
 "cells": [
  {
   "cell_type": "code",
   "execution_count": 1,
   "metadata": {},
   "outputs": [],
   "source": [
    "# Librerias\n",
    "import numpy as np\n",
    "import pandas as pd\n",
    "import seaborn as sns\n",
    "\n",
    "from sklearn import linear_model\n",
    "from sklearn import metrics\n",
    "from sklearn.model_selection import train_test_split\n",
    "from sklearn.preprocessing import OneHotEncoder\n",
    "from sklearn.preprocessing import MinMaxScaler\n",
    "\n",
    "import statsmodels.api as sm\n",
    "from statsmodels.tools import eval_measures\n",
    "\n",
    "\n",
    "from sklearn.model_selection import train_test_split\n",
    "from sklearn.linear_model import LinearRegression\n",
    "from sklearn.preprocessing import StandardScaler\n",
    "from sklearn.linear_model import RidgeCV\n"
   ]
  },
  {
   "cell_type": "code",
   "execution_count": 2,
   "metadata": {},
   "outputs": [
    {
     "data": {
      "text/html": [
       "<div>\n",
       "<style scoped>\n",
       "    .dataframe tbody tr th:only-of-type {\n",
       "        vertical-align: middle;\n",
       "    }\n",
       "\n",
       "    .dataframe tbody tr th {\n",
       "        vertical-align: top;\n",
       "    }\n",
       "\n",
       "    .dataframe thead th {\n",
       "        text-align: right;\n",
       "    }\n",
       "</style>\n",
       "<table border=\"1\" class=\"dataframe\">\n",
       "  <thead>\n",
       "    <tr style=\"text-align: right;\">\n",
       "      <th></th>\n",
       "      <th>Unnamed: 0</th>\n",
       "      <th>numero</th>\n",
       "      <th>property_type</th>\n",
       "      <th>place_name</th>\n",
       "      <th>price_aprox_local_currency</th>\n",
       "      <th>price_aprox_usd</th>\n",
       "      <th>surface_total_in_m2</th>\n",
       "      <th>surface_covered_in_m2</th>\n",
       "      <th>price_usd_per_m2</th>\n",
       "      <th>price_per_m2</th>\n",
       "      <th>floor</th>\n",
       "      <th>rooms</th>\n",
       "      <th>expenses</th>\n",
       "      <th>piscina</th>\n",
       "      <th>Parrilla</th>\n",
       "      <th>Cochera</th>\n",
       "      <th>nuevo</th>\n",
       "      <th>description</th>\n",
       "      <th>title</th>\n",
       "    </tr>\n",
       "  </thead>\n",
       "  <tbody>\n",
       "    <tr>\n",
       "      <th>2459</th>\n",
       "      <td>2459</td>\n",
       "      <td>2460</td>\n",
       "      <td>store</td>\n",
       "      <td>Recoleta</td>\n",
       "      <td>6352020</td>\n",
       "      <td>360000</td>\n",
       "      <td>30</td>\n",
       "      <td>30</td>\n",
       "      <td>12000</td>\n",
       "      <td>12000</td>\n",
       "      <td>1</td>\n",
       "      <td>1</td>\n",
       "      <td>30000</td>\n",
       "      <td>0</td>\n",
       "      <td>0</td>\n",
       "      <td>0</td>\n",
       "      <td>0</td>\n",
       "      <td>Local  comercial a la calle en excelente zona ...</td>\n",
       "      <td>Local - Recoleta</td>\n",
       "    </tr>\n",
       "    <tr>\n",
       "      <th>12063</th>\n",
       "      <td>12063</td>\n",
       "      <td>12064</td>\n",
       "      <td>apartment</td>\n",
       "      <td>Caballito</td>\n",
       "      <td>1764450</td>\n",
       "      <td>100000</td>\n",
       "      <td>59</td>\n",
       "      <td>29</td>\n",
       "      <td>1695</td>\n",
       "      <td>3448</td>\n",
       "      <td>1</td>\n",
       "      <td>1</td>\n",
       "      <td>0</td>\n",
       "      <td>0</td>\n",
       "      <td>1</td>\n",
       "      <td>0</td>\n",
       "      <td>0</td>\n",
       "      <td>- Ascensor automático con cabina de acero inox...</td>\n",
       "      <td>Departamento 1 ambiente con balcón y terraza p...</td>\n",
       "    </tr>\n",
       "    <tr>\n",
       "      <th>5011</th>\n",
       "      <td>5011</td>\n",
       "      <td>5012</td>\n",
       "      <td>apartment</td>\n",
       "      <td>San Telmo</td>\n",
       "      <td>16991345</td>\n",
       "      <td>962983</td>\n",
       "      <td>44</td>\n",
       "      <td>35</td>\n",
       "      <td>21886</td>\n",
       "      <td>27514</td>\n",
       "      <td>6</td>\n",
       "      <td>2</td>\n",
       "      <td>0</td>\n",
       "      <td>0</td>\n",
       "      <td>1</td>\n",
       "      <td>1</td>\n",
       "      <td>0</td>\n",
       "      <td>Formando Parte del Barrio de San Telmo: Caract...</td>\n",
       "      <td>Departamento - 2 Ambientes - San Telmo</td>\n",
       "    </tr>\n",
       "    <tr>\n",
       "      <th>16717</th>\n",
       "      <td>16717</td>\n",
       "      <td>16718</td>\n",
       "      <td>apartment</td>\n",
       "      <td>Recoleta</td>\n",
       "      <td>5205128</td>\n",
       "      <td>295000</td>\n",
       "      <td>77</td>\n",
       "      <td>77</td>\n",
       "      <td>3831</td>\n",
       "      <td>3831</td>\n",
       "      <td>3</td>\n",
       "      <td>4</td>\n",
       "      <td>0</td>\n",
       "      <td>0</td>\n",
       "      <td>0</td>\n",
       "      <td>0</td>\n",
       "      <td>0</td>\n",
       "      <td>Plena Recoleta, living comedor, comedor diario...</td>\n",
       "      <td>Departamento en Recoleta</td>\n",
       "    </tr>\n",
       "    <tr>\n",
       "      <th>7974</th>\n",
       "      <td>7974</td>\n",
       "      <td>7975</td>\n",
       "      <td>apartment</td>\n",
       "      <td>Caballito</td>\n",
       "      <td>22895680</td>\n",
       "      <td>129761</td>\n",
       "      <td>43</td>\n",
       "      <td>39</td>\n",
       "      <td>3018</td>\n",
       "      <td>3327</td>\n",
       "      <td>16</td>\n",
       "      <td>1</td>\n",
       "      <td>0</td>\n",
       "      <td>1</td>\n",
       "      <td>1</td>\n",
       "      <td>1</td>\n",
       "      <td>1</td>\n",
       "      <td>VENTA DEPARTAMENTO 1 AMBIENTE CABALLITOUnidad ...</td>\n",
       "      <td>DEPARTAMENTO EN VENTA</td>\n",
       "    </tr>\n",
       "  </tbody>\n",
       "</table>\n",
       "</div>"
      ],
      "text/plain": [
       "       Unnamed: 0  numero property_type place_name  \\\n",
       "2459         2459    2460         store   Recoleta   \n",
       "12063       12063   12064     apartment  Caballito   \n",
       "5011         5011    5012     apartment  San Telmo   \n",
       "16717       16717   16718     apartment   Recoleta   \n",
       "7974         7974    7975     apartment  Caballito   \n",
       "\n",
       "       price_aprox_local_currency  price_aprox_usd  surface_total_in_m2  \\\n",
       "2459                      6352020           360000                   30   \n",
       "12063                     1764450           100000                   59   \n",
       "5011                     16991345           962983                   44   \n",
       "16717                     5205128           295000                   77   \n",
       "7974                     22895680           129761                   43   \n",
       "\n",
       "       surface_covered_in_m2  price_usd_per_m2  price_per_m2  floor  rooms  \\\n",
       "2459                      30             12000         12000      1      1   \n",
       "12063                     29              1695          3448      1      1   \n",
       "5011                      35             21886         27514      6      2   \n",
       "16717                     77              3831          3831      3      4   \n",
       "7974                      39              3018          3327     16      1   \n",
       "\n",
       "       expenses  piscina  Parrilla  Cochera  nuevo  \\\n",
       "2459      30000        0         0        0      0   \n",
       "12063         0        0         1        0      0   \n",
       "5011          0        0         1        1      0   \n",
       "16717         0        0         0        0      0   \n",
       "7974          0        1         1        1      1   \n",
       "\n",
       "                                             description  \\\n",
       "2459   Local  comercial a la calle en excelente zona ...   \n",
       "12063  - Ascensor automático con cabina de acero inox...   \n",
       "5011   Formando Parte del Barrio de San Telmo: Caract...   \n",
       "16717  Plena Recoleta, living comedor, comedor diario...   \n",
       "7974   VENTA DEPARTAMENTO 1 AMBIENTE CABALLITOUnidad ...   \n",
       "\n",
       "                                                   title  \n",
       "2459                                    Local - Recoleta  \n",
       "12063  Departamento 1 ambiente con balcón y terraza p...  \n",
       "5011              Departamento - 2 Ambientes - San Telmo  \n",
       "16717                           Departamento en Recoleta  \n",
       "7974                               DEPARTAMENTO EN VENTA  "
      ]
     },
     "metadata": {},
     "output_type": "display_data"
    },
    {
     "name": "stdout",
     "output_type": "stream",
     "text": [
      "(Cantidad de Filas, Cantidad de columnas) -> (16938, 19)\n"
     ]
    }
   ],
   "source": [
    "# leemos el dataset limpio \n",
    "filename = \"../dataset/capital.csv\"\n",
    "data_original = pd.read_csv(filename, sep=',')\n",
    "display(data_original.sample(n=5))\n",
    "print(f\"(Cantidad de Filas, Cantidad de columnas) -> {data_original.shape}\")"
   ]
  },
  {
   "cell_type": "markdown",
   "metadata": {},
   "source": [
    "Utilizaremos unicamente datos de apartamentos en palermo"
   ]
  },
  {
   "cell_type": "code",
   "execution_count": 3,
   "metadata": {},
   "outputs": [
    {
     "data": {
      "text/html": [
       "<div>\n",
       "<style scoped>\n",
       "    .dataframe tbody tr th:only-of-type {\n",
       "        vertical-align: middle;\n",
       "    }\n",
       "\n",
       "    .dataframe tbody tr th {\n",
       "        vertical-align: top;\n",
       "    }\n",
       "\n",
       "    .dataframe thead th {\n",
       "        text-align: right;\n",
       "    }\n",
       "</style>\n",
       "<table border=\"1\" class=\"dataframe\">\n",
       "  <thead>\n",
       "    <tr style=\"text-align: right;\">\n",
       "      <th></th>\n",
       "      <th>Unnamed: 0</th>\n",
       "      <th>numero</th>\n",
       "      <th>property_type</th>\n",
       "      <th>place_name</th>\n",
       "      <th>price_aprox_local_currency</th>\n",
       "      <th>price_aprox_usd</th>\n",
       "      <th>surface_total_in_m2</th>\n",
       "      <th>surface_covered_in_m2</th>\n",
       "      <th>price_usd_per_m2</th>\n",
       "      <th>price_per_m2</th>\n",
       "      <th>floor</th>\n",
       "      <th>rooms</th>\n",
       "      <th>expenses</th>\n",
       "      <th>piscina</th>\n",
       "      <th>Parrilla</th>\n",
       "      <th>Cochera</th>\n",
       "      <th>nuevo</th>\n",
       "      <th>description</th>\n",
       "      <th>title</th>\n",
       "    </tr>\n",
       "  </thead>\n",
       "  <tbody>\n",
       "    <tr>\n",
       "      <th>4380</th>\n",
       "      <td>4380</td>\n",
       "      <td>4381</td>\n",
       "      <td>apartment</td>\n",
       "      <td>Capital Federal</td>\n",
       "      <td>2117340</td>\n",
       "      <td>120000</td>\n",
       "      <td>62</td>\n",
       "      <td>61</td>\n",
       "      <td>1935</td>\n",
       "      <td>1967</td>\n",
       "      <td>3</td>\n",
       "      <td>3</td>\n",
       "      <td>12000</td>\n",
       "      <td>0</td>\n",
       "      <td>0</td>\n",
       "      <td>0</td>\n",
       "      <td>0</td>\n",
       "      <td>DUEÑO VENDE HERMOSO 3 AMB + ENTREPISO. EXCELEN...</td>\n",
       "      <td>Departamento venta</td>\n",
       "    </tr>\n",
       "    <tr>\n",
       "      <th>13827</th>\n",
       "      <td>13827</td>\n",
       "      <td>13828</td>\n",
       "      <td>apartment</td>\n",
       "      <td>Capital Federal</td>\n",
       "      <td>4499348</td>\n",
       "      <td>255000</td>\n",
       "      <td>116</td>\n",
       "      <td>95</td>\n",
       "      <td>2198</td>\n",
       "      <td>2684</td>\n",
       "      <td>2</td>\n",
       "      <td>8</td>\n",
       "      <td>0</td>\n",
       "      <td>0</td>\n",
       "      <td>0</td>\n",
       "      <td>0</td>\n",
       "      <td>0</td>\n",
       "      <td>Se trata de un departamento al frente, de 8 am...</td>\n",
       "      <td>Departamento - Recoleta</td>\n",
       "    </tr>\n",
       "  </tbody>\n",
       "</table>\n",
       "</div>"
      ],
      "text/plain": [
       "       Unnamed: 0  numero property_type       place_name  \\\n",
       "4380         4380    4381     apartment  Capital Federal   \n",
       "13827       13827   13828     apartment  Capital Federal   \n",
       "\n",
       "       price_aprox_local_currency  price_aprox_usd  surface_total_in_m2  \\\n",
       "4380                      2117340           120000                   62   \n",
       "13827                     4499348           255000                  116   \n",
       "\n",
       "       surface_covered_in_m2  price_usd_per_m2  price_per_m2  floor  rooms  \\\n",
       "4380                      61              1935          1967      3      3   \n",
       "13827                     95              2198          2684      2      8   \n",
       "\n",
       "       expenses  piscina  Parrilla  Cochera  nuevo  \\\n",
       "4380      12000        0         0        0      0   \n",
       "13827         0        0         0        0      0   \n",
       "\n",
       "                                             description  \\\n",
       "4380   DUEÑO VENDE HERMOSO 3 AMB + ENTREPISO. EXCELEN...   \n",
       "13827  Se trata de un departamento al frente, de 8 am...   \n",
       "\n",
       "                         title  \n",
       "4380        Departamento venta  \n",
       "13827  Departamento - Recoleta  "
      ]
     },
     "metadata": {},
     "output_type": "display_data"
    },
    {
     "data": {
      "text/plain": [
       "(120, 19)"
      ]
     },
     "execution_count": 3,
     "metadata": {},
     "output_type": "execute_result"
    }
   ],
   "source": [
    "data=data_original[(data_original.property_type=='apartment') & (data_original.nuevo==0) &(data_original.price_aprox_usd<800000)\n",
    " & (data_original.surface_total_in_m2<500) & (data_original.surface_covered_in_m2<500) & (data_original.rooms>=1) \n",
    " &(data_original.floor>=1) & (data_original.place_name=='Capital Federal')]\n",
    "display(data.sample(2))\n",
    "data.shape"
   ]
  },
  {
   "cell_type": "code",
   "execution_count": 4,
   "metadata": {},
   "outputs": [
    {
     "name": "stderr",
     "output_type": "stream",
     "text": [
      "C:\\Users\\Usuario\\AppData\\Local\\Temp\\ipykernel_8268\\67199441.py:2: SettingWithCopyWarning: \n",
      "A value is trying to be set on a copy of a slice from a DataFrame\n",
      "\n",
      "See the caveats in the documentation: https://pandas.pydata.org/pandas-docs/stable/user_guide/indexing.html#returning-a-view-versus-a-copy\n",
      "  data.drop([data.columns[0],\"numero\",\"description\", \"price_usd_per_m2\", \"price_aprox_local_currency\",\"price_per_m2\" ,\"title\", \"property_type\"], axis=1,inplace=True)\n"
     ]
    }
   ],
   "source": [
    "#Eliminamos columnas que no vamos a usar\n",
    "data.drop([data.columns[0],\"numero\",\"description\", \"price_usd_per_m2\", \"price_aprox_local_currency\",\"price_per_m2\" ,\"title\", \"property_type\"], axis=1,inplace=True)"
   ]
  },
  {
   "cell_type": "code",
   "execution_count": 5,
   "metadata": {},
   "outputs": [
    {
     "data": {
      "text/plain": [
       "(120, 11)"
      ]
     },
     "execution_count": 5,
     "metadata": {},
     "output_type": "execute_result"
    }
   ],
   "source": [
    "data.shape"
   ]
  },
  {
   "cell_type": "markdown",
   "metadata": {},
   "source": [
    "# Dataset\n",
    "\n",
    "El dataset ya se encuentra limpio, y cuenta con 120 Propiedades de Palermo.\n",
    "\n",
    "**Campos**\n",
    "<pre>\n",
    "place_name:                Barrio\n",
    "price_aprox_usd:           Precio en dolares. Variable Target\n",
    "surface_total_in_m2:       Metros cuadrados totales de la propiedad\n",
    "surface_covered_in_m2:     Metros cuadrados cubiertos de la propiedad\n",
    "floor:                     Piso en que se encuentra la propiedad.\n",
    "rooms:                     Habitaciones de la propiedad\n",
    "expenses:                  Valor de las Expensas en pesos\n",
    "piscina:                   Si tiene pisina (0: No tiene, 1: Tiene)\n",
    "Parrilla:                  Si tiene parrilla (0: No tiene, 1: Tiene)\n",
    "Cochera:                   Si tiene cochera (0: No tiene, 1: Tiene)\n",
    "nuevo:                     Si es nuevo (0: no es nuevo, 1: es nuevo)\n",
    "</pre>\n",
    "\n",
    "`place_name` es una Variable categorica,hay que crear variables dummies.\n",
    "`surface_total_in_m2`, `surface_covered_in_m2`, `floor`, `rooms` y `expenses` son variables continuas, y hay que estandarizarlas para llevarlas al intevalo 0-1.\n"
   ]
  },
  {
   "cell_type": "code",
   "execution_count": 6,
   "metadata": {},
   "outputs": [
    {
     "data": {
      "text/plain": [
       "[array(['Capital Federal'], dtype=object)]"
      ]
     },
     "execution_count": 6,
     "metadata": {},
     "output_type": "execute_result"
    }
   ],
   "source": [
    "categoricals = ['place_name']\n",
    "\n",
    "enc = OneHotEncoder(drop='first')\n",
    "X = data[categoricals]\n",
    "enc.fit(X)\n",
    "enc.categories_"
   ]
  },
  {
   "cell_type": "code",
   "execution_count": 7,
   "metadata": {},
   "outputs": [
    {
     "data": {
      "text/plain": [
       "array([], shape=(120, 0), dtype=float64)"
      ]
     },
     "execution_count": 7,
     "metadata": {},
     "output_type": "execute_result"
    }
   ],
   "source": [
    "dummies = enc.transform(X).toarray()\n",
    "dummies"
   ]
  },
  {
   "cell_type": "code",
   "execution_count": 8,
   "metadata": {},
   "outputs": [
    {
     "data": {
      "text/plain": [
       "(120, 0)"
      ]
     },
     "execution_count": 8,
     "metadata": {},
     "output_type": "execute_result"
    }
   ],
   "source": [
    "dummies.shape"
   ]
  },
  {
   "cell_type": "code",
   "execution_count": 9,
   "metadata": {},
   "outputs": [
    {
     "data": {
      "text/html": [
       "<div>\n",
       "<style scoped>\n",
       "    .dataframe tbody tr th:only-of-type {\n",
       "        vertical-align: middle;\n",
       "    }\n",
       "\n",
       "    .dataframe tbody tr th {\n",
       "        vertical-align: top;\n",
       "    }\n",
       "\n",
       "    .dataframe thead th {\n",
       "        text-align: right;\n",
       "    }\n",
       "</style>\n",
       "<table border=\"1\" class=\"dataframe\">\n",
       "  <thead>\n",
       "    <tr style=\"text-align: right;\">\n",
       "      <th></th>\n",
       "    </tr>\n",
       "  </thead>\n",
       "  <tbody>\n",
       "    <tr>\n",
       "      <th>0</th>\n",
       "    </tr>\n",
       "    <tr>\n",
       "      <th>1</th>\n",
       "    </tr>\n",
       "    <tr>\n",
       "      <th>2</th>\n",
       "    </tr>\n",
       "    <tr>\n",
       "      <th>3</th>\n",
       "    </tr>\n",
       "    <tr>\n",
       "      <th>4</th>\n",
       "    </tr>\n",
       "    <tr>\n",
       "      <th>...</th>\n",
       "    </tr>\n",
       "    <tr>\n",
       "      <th>115</th>\n",
       "    </tr>\n",
       "    <tr>\n",
       "      <th>116</th>\n",
       "    </tr>\n",
       "    <tr>\n",
       "      <th>117</th>\n",
       "    </tr>\n",
       "    <tr>\n",
       "      <th>118</th>\n",
       "    </tr>\n",
       "    <tr>\n",
       "      <th>119</th>\n",
       "    </tr>\n",
       "  </tbody>\n",
       "</table>\n",
       "<p>120 rows × 0 columns</p>\n",
       "</div>"
      ],
      "text/plain": [
       "Empty DataFrame\n",
       "Columns: []\n",
       "Index: [0, 1, 2, 3, 4, 5, 6, 7, 8, 9, 10, 11, 12, 13, 14, 15, 16, 17, 18, 19, 20, 21, 22, 23, 24, 25, 26, 27, 28, 29, 30, 31, 32, 33, 34, 35, 36, 37, 38, 39, 40, 41, 42, 43, 44, 45, 46, 47, 48, 49, 50, 51, 52, 53, 54, 55, 56, 57, 58, 59, 60, 61, 62, 63, 64, 65, 66, 67, 68, 69, 70, 71, 72, 73, 74, 75, 76, 77, 78, 79, 80, 81, 82, 83, 84, 85, 86, 87, 88, 89, 90, 91, 92, 93, 94, 95, 96, 97, 98, 99, ...]\n",
       "\n",
       "[120 rows x 0 columns]"
      ]
     },
     "execution_count": 9,
     "metadata": {},
     "output_type": "execute_result"
    }
   ],
   "source": [
    "# Convertimos en dataframe por comodidad.\n",
    "dummies_df = pd.DataFrame(dummies)\n",
    "dummies_df"
   ]
  },
  {
   "cell_type": "code",
   "execution_count": 10,
   "metadata": {},
   "outputs": [
    {
     "data": {
      "text/html": [
       "<div>\n",
       "<style scoped>\n",
       "    .dataframe tbody tr th:only-of-type {\n",
       "        vertical-align: middle;\n",
       "    }\n",
       "\n",
       "    .dataframe tbody tr th {\n",
       "        vertical-align: top;\n",
       "    }\n",
       "\n",
       "    .dataframe thead th {\n",
       "        text-align: right;\n",
       "    }\n",
       "</style>\n",
       "<table border=\"1\" class=\"dataframe\">\n",
       "  <thead>\n",
       "    <tr style=\"text-align: right;\">\n",
       "      <th></th>\n",
       "    </tr>\n",
       "  </thead>\n",
       "  <tbody>\n",
       "    <tr>\n",
       "      <th>0</th>\n",
       "    </tr>\n",
       "    <tr>\n",
       "      <th>1</th>\n",
       "    </tr>\n",
       "    <tr>\n",
       "      <th>2</th>\n",
       "    </tr>\n",
       "    <tr>\n",
       "      <th>3</th>\n",
       "    </tr>\n",
       "    <tr>\n",
       "      <th>4</th>\n",
       "    </tr>\n",
       "    <tr>\n",
       "      <th>...</th>\n",
       "    </tr>\n",
       "    <tr>\n",
       "      <th>115</th>\n",
       "    </tr>\n",
       "    <tr>\n",
       "      <th>116</th>\n",
       "    </tr>\n",
       "    <tr>\n",
       "      <th>117</th>\n",
       "    </tr>\n",
       "    <tr>\n",
       "      <th>118</th>\n",
       "    </tr>\n",
       "    <tr>\n",
       "      <th>119</th>\n",
       "    </tr>\n",
       "  </tbody>\n",
       "</table>\n",
       "<p>120 rows × 0 columns</p>\n",
       "</div>"
      ],
      "text/plain": [
       "Empty DataFrame\n",
       "Columns: []\n",
       "Index: [0, 1, 2, 3, 4, 5, 6, 7, 8, 9, 10, 11, 12, 13, 14, 15, 16, 17, 18, 19, 20, 21, 22, 23, 24, 25, 26, 27, 28, 29, 30, 31, 32, 33, 34, 35, 36, 37, 38, 39, 40, 41, 42, 43, 44, 45, 46, 47, 48, 49, 50, 51, 52, 53, 54, 55, 56, 57, 58, 59, 60, 61, 62, 63, 64, 65, 66, 67, 68, 69, 70, 71, 72, 73, 74, 75, 76, 77, 78, 79, 80, 81, 82, 83, 84, 85, 86, 87, 88, 89, 90, 91, 92, 93, 94, 95, 96, 97, 98, 99, ...]\n",
       "\n",
       "[120 rows x 0 columns]"
      ]
     },
     "execution_count": 10,
     "metadata": {},
     "output_type": "execute_result"
    }
   ],
   "source": [
    "col_names = [categoricals[i] + '_' + enc.categories_[i] for i in range(len(categoricals)) ]\n",
    "col_names_drop_first = [sublist[i] for sublist in col_names for i in range(len(sublist)) if i != 0]\n",
    "dummies_df.columns = col_names_drop_first\n",
    "dummies_df"
   ]
  },
  {
   "cell_type": "markdown",
   "metadata": {},
   "source": [
    "Paso 2:\n",
    "Estandarizamos los campos numéricos `surface_total_in_m2`, `surface_covered_in_m2`, `floor`, `rooms` y `expenses`."
   ]
  },
  {
   "cell_type": "code",
   "execution_count": 11,
   "metadata": {},
   "outputs": [
    {
     "data": {
      "text/html": [
       "<div>\n",
       "<style scoped>\n",
       "    .dataframe tbody tr th:only-of-type {\n",
       "        vertical-align: middle;\n",
       "    }\n",
       "\n",
       "    .dataframe tbody tr th {\n",
       "        vertical-align: top;\n",
       "    }\n",
       "\n",
       "    .dataframe thead th {\n",
       "        text-align: right;\n",
       "    }\n",
       "</style>\n",
       "<table border=\"1\" class=\"dataframe\">\n",
       "  <thead>\n",
       "    <tr style=\"text-align: right;\">\n",
       "      <th></th>\n",
       "      <th>surface_total_in_m2_std</th>\n",
       "      <th>surface_covered_in_m2_std</th>\n",
       "      <th>floor_std</th>\n",
       "      <th>rooms_std</th>\n",
       "      <th>expenses_std</th>\n",
       "    </tr>\n",
       "  </thead>\n",
       "  <tbody>\n",
       "    <tr>\n",
       "      <th>0</th>\n",
       "      <td>0.169972</td>\n",
       "      <td>0.195349</td>\n",
       "      <td>0.875</td>\n",
       "      <td>0.125</td>\n",
       "      <td>0.000000</td>\n",
       "    </tr>\n",
       "    <tr>\n",
       "      <th>1</th>\n",
       "      <td>0.283286</td>\n",
       "      <td>0.325581</td>\n",
       "      <td>0.250</td>\n",
       "      <td>0.250</td>\n",
       "      <td>0.125000</td>\n",
       "    </tr>\n",
       "    <tr>\n",
       "      <th>2</th>\n",
       "      <td>0.056657</td>\n",
       "      <td>0.093023</td>\n",
       "      <td>0.125</td>\n",
       "      <td>0.000</td>\n",
       "      <td>0.000000</td>\n",
       "    </tr>\n",
       "    <tr>\n",
       "      <th>3</th>\n",
       "      <td>0.084986</td>\n",
       "      <td>0.139535</td>\n",
       "      <td>0.000</td>\n",
       "      <td>0.125</td>\n",
       "      <td>0.333333</td>\n",
       "    </tr>\n",
       "    <tr>\n",
       "      <th>4</th>\n",
       "      <td>0.084986</td>\n",
       "      <td>0.120930</td>\n",
       "      <td>0.250</td>\n",
       "      <td>0.250</td>\n",
       "      <td>0.141667</td>\n",
       "    </tr>\n",
       "    <tr>\n",
       "      <th>...</th>\n",
       "      <td>...</td>\n",
       "      <td>...</td>\n",
       "      <td>...</td>\n",
       "      <td>...</td>\n",
       "      <td>...</td>\n",
       "    </tr>\n",
       "    <tr>\n",
       "      <th>115</th>\n",
       "      <td>0.184136</td>\n",
       "      <td>0.246512</td>\n",
       "      <td>0.125</td>\n",
       "      <td>0.125</td>\n",
       "      <td>0.000000</td>\n",
       "    </tr>\n",
       "    <tr>\n",
       "      <th>116</th>\n",
       "      <td>0.118980</td>\n",
       "      <td>0.144186</td>\n",
       "      <td>0.125</td>\n",
       "      <td>0.000</td>\n",
       "      <td>0.000000</td>\n",
       "    </tr>\n",
       "    <tr>\n",
       "      <th>117</th>\n",
       "      <td>0.161473</td>\n",
       "      <td>0.227907</td>\n",
       "      <td>0.250</td>\n",
       "      <td>0.125</td>\n",
       "      <td>0.000000</td>\n",
       "    </tr>\n",
       "    <tr>\n",
       "      <th>118</th>\n",
       "      <td>0.184136</td>\n",
       "      <td>0.255814</td>\n",
       "      <td>0.875</td>\n",
       "      <td>0.000</td>\n",
       "      <td>0.000000</td>\n",
       "    </tr>\n",
       "    <tr>\n",
       "      <th>119</th>\n",
       "      <td>0.184136</td>\n",
       "      <td>0.255814</td>\n",
       "      <td>0.875</td>\n",
       "      <td>0.125</td>\n",
       "      <td>0.000000</td>\n",
       "    </tr>\n",
       "  </tbody>\n",
       "</table>\n",
       "<p>120 rows × 5 columns</p>\n",
       "</div>"
      ],
      "text/plain": [
       "     surface_total_in_m2_std  surface_covered_in_m2_std  floor_std  rooms_std  \\\n",
       "0                   0.169972                   0.195349      0.875      0.125   \n",
       "1                   0.283286                   0.325581      0.250      0.250   \n",
       "2                   0.056657                   0.093023      0.125      0.000   \n",
       "3                   0.084986                   0.139535      0.000      0.125   \n",
       "4                   0.084986                   0.120930      0.250      0.250   \n",
       "..                       ...                        ...        ...        ...   \n",
       "115                 0.184136                   0.246512      0.125      0.125   \n",
       "116                 0.118980                   0.144186      0.125      0.000   \n",
       "117                 0.161473                   0.227907      0.250      0.125   \n",
       "118                 0.184136                   0.255814      0.875      0.000   \n",
       "119                 0.184136                   0.255814      0.875      0.125   \n",
       "\n",
       "     expenses_std  \n",
       "0        0.000000  \n",
       "1        0.125000  \n",
       "2        0.000000  \n",
       "3        0.333333  \n",
       "4        0.141667  \n",
       "..            ...  \n",
       "115      0.000000  \n",
       "116      0.000000  \n",
       "117      0.000000  \n",
       "118      0.000000  \n",
       "119      0.000000  \n",
       "\n",
       "[120 rows x 5 columns]"
      ]
     },
     "execution_count": 11,
     "metadata": {},
     "output_type": "execute_result"
    }
   ],
   "source": [
    "numericals = ['surface_total_in_m2', 'surface_covered_in_m2', 'floor', 'rooms', 'expenses']\n",
    "\n",
    "X = data[numericals]\n",
    "\n",
    "scaler = MinMaxScaler()\n",
    "scaler.fit(X)\n",
    "\n",
    "std_numerical_data = scaler.transform(X)\n",
    "std_df = pd.DataFrame(std_numerical_data)\n",
    "std_df.columns = [i + '_std' for i in numericals]\n",
    "std_df"
   ]
  },
  {
   "cell_type": "markdown",
   "metadata": {},
   "source": [
    "Ahora nuestro dataset de features serán las variables dummies y las variables numéricas estandarizadas"
   ]
  },
  {
   "cell_type": "code",
   "execution_count": 12,
   "metadata": {},
   "outputs": [],
   "source": [
    "X = pd.concat([dummies_df, std_df], axis = 1)\n",
    "y = data.price_aprox_usd  #variable target"
   ]
  },
  {
   "cell_type": "markdown",
   "metadata": {},
   "source": [
    "Paso 3:\n",
    "Separamos el conjunto train y test.\n",
    "* Spliteamos el dataframe el dataframe construido, con las variables dummies y estandarizadas.\n",
    "* El tamaño del conjunto de datos lo definimos en 30% de los datos.\n",
    "* fijamos la semilla de los nímeros aleatoaleatoriosrios."
   ]
  },
  {
   "cell_type": "code",
   "execution_count": 13,
   "metadata": {},
   "outputs": [],
   "source": [
    "X_train, X_test, y_train, y_test = train_test_split(X, y, test_size = 0.3, random_state = 117)"
   ]
  },
  {
   "cell_type": "markdown",
   "metadata": {},
   "source": [
    "Paso 4:\n",
    "Ajustemos una regresión lineal múltiple con los datos del conjunto de entrenamiento usando statsmodels y evaluemos la significancia de cada uno de los coeficientes"
   ]
  },
  {
   "cell_type": "code",
   "execution_count": null,
   "metadata": {},
   "outputs": [],
   "source": [
    "###### NO EJECUTA ESTA LINEA  ######\n",
    "####################################\n",
    "\n",
    "X_train_sm = sm.add_constant(X_train)\n",
    "model = sm.OLS(y_train, X_train_sm).fit()\n",
    "print(model.summary())"
   ]
  },
  {
   "cell_type": "code",
   "execution_count": null,
   "metadata": {},
   "outputs": [],
   "source": [
    "no_reg_model_params = model.params"
   ]
  },
  {
   "cell_type": "markdown",
   "metadata": {},
   "source": [
    "calculamos el error cuadratico en train y test."
   ]
  },
  {
   "cell_type": "code",
   "execution_count": null,
   "metadata": {},
   "outputs": [],
   "source": [
    "sm_prediction_train = model.predict(X_train_sm)\n",
    "print(eval_measures.rmse(y_train, sm_prediction_train))\n",
    "\n",
    "X_test_sm = sm.add_constant(X_test)\n",
    "sm_prediction_test = model.predict(X_test_sm)\n",
    "print(eval_measures.rmse(y_test, sm_prediction_test))"
   ]
  },
  {
   "cell_type": "markdown",
   "metadata": {},
   "source": [
    "Si los resultados no son parecidos, no fueron bien entrenados.\n",
    "\n",
    "Si el `R-squared` y el `R-squared ajustado` dan muy bajos, creemos que usando regularizaciòn podrìamos arreglar este problema.\n",
    "<pre>\n",
    "R-squared:\t0.175    ##AREGLAR\n",
    "Adj. R-squared:\t0.170 ##ARREGLAR\n",
    "</pre>"
   ]
  },
  {
   "cell_type": "markdown",
   "metadata": {},
   "source": [
    "Paso 5:\n",
    "\n",
    "Ajustamos el modelo aplicando regularización de Lasso y validación cruzada para estimar el mejor valor de $\\alpha$ para este problema"
   ]
  },
  {
   "cell_type": "code",
   "execution_count": null,
   "metadata": {},
   "outputs": [],
   "source": [
    "import warnings\n",
    "warnings.filterwarnings('ignore')"
   ]
  },
  {
   "cell_type": "code",
   "execution_count": null,
   "metadata": {},
   "outputs": [],
   "source": [
    "# Definimos el rango de de búsqueda del hiperparametro explicitamente\n",
    "# normalize = False, porque ya normalizamos.\n",
    "# cv=5 -> Dividimos el entrenamiento en 5.\n",
    "lm_lasso = linear_model.LassoCV(alphas=[0.00001, 0.00005, 0.0001, 0.0005, 0.001, 0.005, 0.01,\\\n",
    "                                        0.05, 0.1, 1, 5, 10, 15, 30, 40, 50, 100],\\\n",
    "                                        normalize=False, cv=5) \n",
    "\n",
    "model_cv = lm_lasso.fit(X_train, y_train)\n",
    "\n",
    "model_cv.score(X_train, y_train)"
   ]
  },
  {
   "cell_type": "code",
   "execution_count": null,
   "metadata": {},
   "outputs": [],
   "source": [
    "model_cv.coef_"
   ]
  },
  {
   "cell_type": "code",
   "execution_count": null,
   "metadata": {},
   "outputs": [],
   "source": [
    "model_cv.intercept_"
   ]
  },
  {
   "cell_type": "code",
   "execution_count": null,
   "metadata": {},
   "outputs": [],
   "source": [
    "model_cv.alpha_"
   ]
  },
  {
   "cell_type": "markdown",
   "metadata": {},
   "source": [
    "Se planteron todos los valores de alfa posibles,\n",
    "Como dividimos el entrenamiento en 5, se calcula el error cuadratico promedio de los 5 entrenamientos, y obtenemos el Alfa.\n",
    "Ahora chequeamos que el resultado no sea uno de los valores extremos: En este caso, `0.1750431565177899` ##AREGLAR no es extremo, por lo que lo tomamos como válido y vamos a confiar en ese alfa"
   ]
  },
  {
   "cell_type": "code",
   "execution_count": null,
   "metadata": {},
   "outputs": [],
   "source": [
    "model_cv.score(X_train, y_train)"
   ]
  },
  {
   "cell_type": "markdown",
   "metadata": {},
   "source": [
    "Paso 6:\n",
    "\n",
    "Ajustemos los datos de entrenamiento con una regresión con regularización de Lasso para el valor de $\\alpha$ calculado en el punto anterior usando statsmodels.\n",
    "\n",
    "Usemos scatterplots para mostrar \n",
    "\n",
    "* los valores de los coeficientes de la regresión lineal múltiple obtenidos en el Paso 3, y los valores de los coeficientes de la regresión lineal con regularización de Lasso para el modelo entrenado.\n",
    "\n",
    "* los valores de los residuos en entrenamiento resultado del Paso 3, y los residuos en entrenamiento para el modelo con regularización."
   ]
  },
  {
   "cell_type": "code",
   "execution_count": null,
   "metadata": {},
   "outputs": [],
   "source": [
    "best_alpha = model_cv.alpha_\n",
    "\n",
    "#L1_wt : 0, the fit is ridge regression. 1, the fit is the lasso \n",
    "\n",
    "no_reg_model = sm.OLS(y_train, X_train_sm)\n",
    "\n",
    "reg_model = no_reg_model.fit_regularized(alpha = best_alpha, L1_wt = 1)"
   ]
  },
  {
   "cell_type": "code",
   "execution_count": null,
   "metadata": {},
   "outputs": [],
   "source": [
    "reg_model.params"
   ]
  },
  {
   "cell_type": "markdown",
   "metadata": {},
   "source": [
    "Podemos ver que lasso hizo cero, elimino la variable expensas, ya que cree que no es buena para el modelo.  ##ver si es real"
   ]
  },
  {
   "cell_type": "code",
   "execution_count": null,
   "metadata": {},
   "outputs": [],
   "source": [
    "sns.scatterplot(x=reg_model.params, y=no_reg_model_params);"
   ]
  },
  {
   "cell_type": "code",
   "execution_count": null,
   "metadata": {},
   "outputs": [],
   "source": [
    "reg_residuals = y_train - reg_model.fittedvalues\n",
    "linear_residuals = y_train - model.fittedvalues\n",
    "sns.scatterplot(x = reg_residuals, y = linear_residuals)"
   ]
  },
  {
   "cell_type": "markdown",
   "metadata": {},
   "source": [
    "Paso 7:\n",
    "\n",
    "Usamos statsmodels y scikit-learn para calcular la performance en test del modelo construído y comparemos los resultados de las dos bibliotecas usando como métricas el error absoluto medio (MAE) y la raiz del error cuadrático medio (RMSE) "
   ]
  },
  {
   "cell_type": "code",
   "execution_count": null,
   "metadata": {},
   "outputs": [],
   "source": [
    "sm_prediction = reg_model.predict(X_test_sm)\n",
    "sm_prediction"
   ]
  },
  {
   "cell_type": "code",
   "execution_count": null,
   "metadata": {},
   "outputs": [],
   "source": [
    "skl_lasso = linear_model.Lasso(alpha = best_alpha, fit_intercept=True, normalize=False)\n",
    "skl_lasso = skl_lasso.fit(X= X_train, y = y_train)\n",
    "skl_prediction = skl_lasso.predict(X_test)\n",
    "\n",
    "skl_residuals = y_test - skl_prediction\n",
    "sm_residuals = y_test - sm_prediction\n",
    "sns.scatterplot(x = skl_residuals, y = sm_residuals)"
   ]
  },
  {
   "cell_type": "code",
   "execution_count": null,
   "metadata": {},
   "outputs": [],
   "source": [
    "lasso_coef = np.insert(skl_lasso.coef_, 0, skl_lasso.intercept_)\n",
    "sns.scatterplot(x = lasso_coef, y = reg_model.params);"
   ]
  },
  {
   "cell_type": "code",
   "execution_count": null,
   "metadata": {},
   "outputs": [],
   "source": [
    "lasso_coef"
   ]
  },
  {
   "cell_type": "code",
   "execution_count": null,
   "metadata": {},
   "outputs": [],
   "source": [
    "reg_model.params"
   ]
  },
  {
   "cell_type": "markdown",
   "metadata": {},
   "source": [
    "Métricas en `statsmodels`"
   ]
  },
  {
   "cell_type": "code",
   "execution_count": null,
   "metadata": {},
   "outputs": [],
   "source": [
    "eval_measures.rmse(y_test, sm_prediction)"
   ]
  },
  {
   "cell_type": "code",
   "execution_count": null,
   "metadata": {},
   "outputs": [],
   "source": [
    "eval_measures.meanabs(y_test, sm_prediction)"
   ]
  },
  {
   "cell_type": "code",
   "execution_count": null,
   "metadata": {},
   "outputs": [],
   "source": [
    "# de scikit-learn\n",
    "metrics.r2_score(y_test, sm_prediction)"
   ]
  },
  {
   "cell_type": "markdown",
   "metadata": {},
   "source": [
    "Métricas en `scikit-learn`\n"
   ]
  },
  {
   "cell_type": "code",
   "execution_count": null,
   "metadata": {},
   "outputs": [],
   "source": [
    "np.sqrt(metrics.mean_squared_error(y_test, skl_prediction))"
   ]
  },
  {
   "cell_type": "code",
   "execution_count": null,
   "metadata": {},
   "outputs": [],
   "source": [
    "metrics.mean_absolute_error(y_test, skl_prediction)"
   ]
  },
  {
   "cell_type": "code",
   "execution_count": null,
   "metadata": {},
   "outputs": [],
   "source": [
    "metrics.r2_score(y_test, skl_prediction)"
   ]
  },
  {
   "cell_type": "code",
   "execution_count": null,
   "metadata": {},
   "outputs": [],
   "source": [
    "o = data[:20][['place_name', 'price_aprox_usd']]\n",
    "p = skl_lasso.predict(X_test[:20])\n",
    "for idx in range(len(p)):\n",
    "    print(f'Localidad: {o.place_name[idx]:<25}Precio dataset: {o.price_aprox_usd[idx]:<8}Precio predecido:{p[idx]:<25}Diferencia: {p[idx]-o.price_aprox_usd[idx]:.0f}')"
   ]
  },
  {
   "cell_type": "code",
   "execution_count": null,
   "metadata": {},
   "outputs": [],
   "source": [
    "o = data[['place_name', 'price_aprox_usd']]\n",
    "p = skl_lasso.predict(X_test)\n",
    "for idx in range(len(p)):\n",
    "    if abs(p[idx] - o.price_aprox_usd[idx])<5000:\n",
    "        print(f'Localidad: {o.place_name[idx]:<25}Precio dataset: {o.price_aprox_usd[idx]:<8}Precio predecido:{p[idx]:<25}Diferencia: {p[idx]-o.price_aprox_usd[idx]:.0f}')"
   ]
  },
  {
   "cell_type": "markdown",
   "metadata": {},
   "source": [
    "RIDGE"
   ]
  },
  {
   "cell_type": "code",
   "execution_count": null,
   "metadata": {},
   "outputs": [],
   "source": [
    "#Paso 2: Establecer features y target\n",
    "X = pd.concat([dummies_df, std_df], axis = 1)\n",
    "y = data.price_aprox_usd\n"
   ]
  },
  {
   "cell_type": "code",
   "execution_count": null,
   "metadata": {},
   "outputs": [],
   "source": [
    "numericals = ['surface_total_in_m2', 'surface_covered_in_m2', 'floor', 'rooms', 'expenses']\n",
    "\n",
    "X = data[numericals]\n",
    "\n",
    "scaler = MinMaxScaler()\n",
    "scaler.fit(X)\n",
    "\n",
    "std_numerical_data = scaler.transform(X)\n",
    "std_df = pd.DataFrame(std_numerical_data)\n",
    "std_df.columns = [i + '_std' for i in numericals]\n",
    "std_df"
   ]
  },
  {
   "cell_type": "code",
   "execution_count": null,
   "metadata": {},
   "outputs": [],
   "source": [
    "#Paso 3:\n",
    "X_train, X_test, y_train, y_test = train_test_split(X, y, test_size = 0.3, random_state = 117)"
   ]
  },
  {
   "cell_type": "code",
   "execution_count": null,
   "metadata": {},
   "outputs": [],
   "source": [
    "#Paso 4: Calculamos intervalos de confianza\n",
    "X_train_sm = sm.add_constant(X_train)\n",
    "model = sm.OLS(y_train, X_train_sm).fit()\n",
    "model.summary()"
   ]
  },
  {
   "cell_type": "code",
   "execution_count": null,
   "metadata": {},
   "outputs": [],
   "source": [
    "no_reg_model_params = model.params"
   ]
  },
  {
   "cell_type": "code",
   "execution_count": null,
   "metadata": {},
   "outputs": [],
   "source": [
    "#calculo error cuadratico en train y test:\n",
    "sm_prediction_train = model.predict(X_train_sm)\n",
    "print(eval_measures.rmse(y_train, sm_prediction_train))"
   ]
  },
  {
   "cell_type": "code",
   "execution_count": null,
   "metadata": {},
   "outputs": [],
   "source": [
    "model_ridge_cv = RidgeCV(alphas= [0.3, 0.5, 1.0, 1.1, 1.15, 1.17, 1.18, 1.19, 1.2, 1.21, 1.22, 1.3, 1.4, 1.5, 10.0], \n",
    "                                   fit_intercept=True, cv=10)\n",
    "model_ridge_cv.fit(X_train_sm, y_train)\n",
    "\n",
    "print(model_ridge_cv.alpha_)\n",
    "\n",
    "print(model_ridge_cv.coef_)\n",
    "\n",
    "print(model_ridge_cv.intercept_)\n"
   ]
  },
  {
   "cell_type": "code",
   "execution_count": null,
   "metadata": {},
   "outputs": [],
   "source": [
    "#Comparo metrica de train y test:\n",
    "print ('Modelo Ridge:\\n')\n",
    "print (f'Score (R^2) en train del modelo es {model_ridge_cv.score(X_train_sm, y_train)} y en test es {model_ridge_cv.score(X_test_sm, y_test)}')\n",
    "print ('\\n')"
   ]
  },
  {
   "cell_type": "code",
   "execution_count": null,
   "metadata": {},
   "outputs": [],
   "source": [
    "X_test_sm = sm.add_constant(X_test)\n",
    "sm_prediction_test = model.predict(X_test_sm)\n",
    "print(eval_measures.rmse(y_test, sm_prediction_test))"
   ]
  },
  {
   "cell_type": "code",
   "execution_count": null,
   "metadata": {},
   "outputs": [],
   "source": [
    "#Paso 5:\n",
    "import warnings\n",
    "warnings.filterwarnings('ignore')"
   ]
  },
  {
   "cell_type": "markdown",
   "metadata": {},
   "source": [
    "Por falta de tiempo no logramos terminar este modelo "
   ]
  }
 ],
 "metadata": {
  "kernelspec": {
   "display_name": "Python 3.9.12 ('base')",
   "language": "python",
   "name": "python3"
  },
  "language_info": {
   "codemirror_mode": {
    "name": "ipython",
    "version": 3
   },
   "file_extension": ".py",
   "mimetype": "text/x-python",
   "name": "python",
   "nbconvert_exporter": "python",
   "pygments_lexer": "ipython3",
   "version": "3.9.12"
  },
  "orig_nbformat": 4,
  "vscode": {
   "interpreter": {
    "hash": "b2a747836dbd3d24a41a2e0f1be3b2e08d73c43f6ab8cf54c59a433ce2434b74"
   }
  }
 },
 "nbformat": 4,
 "nbformat_minor": 2
}
